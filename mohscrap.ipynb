{
 "cells": [
  {
   "cell_type": "code",
   "execution_count": 1,
   "metadata": {},
   "outputs": [],
   "source": [
    "\n",
    "\n",
    "import requests\n",
    "from bs4 import BeautifulSoup\n",
    "import time\n",
    "\n"
   ]
  },
  {
   "cell_type": "code",
   "execution_count": 2,
   "metadata": {},
   "outputs": [],
   "source": [
    "\n",
    "\n",
    "url ='https://www.mohfw.gov.in/'\n",
    "\n",
    "headers= {'User-Agent': 'Mozilla/5.0'}\n",
    "\n"
   ]
  },
  {
   "cell_type": "code",
   "execution_count": 3,
   "metadata": {},
   "outputs": [],
   "source": [
    "\n",
    "\n",
    "response = requests.get(url)\n",
    "\n"
   ]
  },
  {
   "cell_type": "code",
   "execution_count": 4,
   "metadata": {},
   "outputs": [
    {
     "data": {
      "text/plain": [
       "200"
      ]
     },
     "execution_count": 4,
     "metadata": {},
     "output_type": "execute_result"
    }
   ],
   "source": [
    "\n",
    "\n",
    "response.status_code\n",
    "\n"
   ]
  },
  {
   "cell_type": "code",
   "execution_count": 5,
   "metadata": {},
   "outputs": [
    {
     "data": {
      "text/plain": [
       "b'<!doctype html>\\n<html>\\n<head>\\n<meta charset=\"utf-8\">\\n<meta http-equiv=\"X-UA-Compatible\" content=\"IE=edge\">\\n<meta name=\"viewport\" content=\"width=device-width, initial-scale=1\">\\n<title>MoHFW | Home</title>\\n<link rel=\"icon\" type=\"image/png\" href=\"assets/images/favicon.png\" sizes=\"32x32\">\\n<link rel=\"stylesheet\" type=\"text/css\" href=\"assets/css/base.css\">\\n</head>\\n<body>\\n<aside class=\"canvas-menu\">\\n\\t<ul>\\n\\t\\t<li class=\"active\"> <a href=\"index.html\">Home</a> </li>\\n\\t\\t<!--<li><a href=\"#\">Dashboard</a></li>-->\\n\\t\\t<li><a class=\"trigger-update\" href=\"#latest-update\">Latest Updates</a></li>\\n\\t\\t<li>\\n\\t\\t<a class=\"trigger-advisories\" href=\"#site-advisories\">Resources</a>\\n\\t\\t<ul class=\"submenu\">\\n\\t\\t<li><a data-id=\"travel\" href=\"#\">Travel Advisories</a></li>\\n\\t\\t<li><a data-id=\"bh\" href=\"#\">Behavioural Health</a></li>\\n\\t\\t<li><a data-id=\"citizens\" href=\"#\">Citizens</a></li>\\n\\t\\t<li><a data-id=\"hospitals\" href=\"#\">Hospitals</a></li>\\n\\t\\t<li><a data-id=\"tm\" href=\"#\">Training Material</a></li>\\n\\t\\t<li><a data-id=\"state\" href=\"#\">States / Departments / Ministries</a></li>\\n\\t\\t<li><a data-id=\"employees\" href=\"#\">Employees</a></li>\\n\\t\\t<li><a data-id=\"awareness\" href=\"#\">Awareness Material</a></li>\\n\\t\\t</ul>\\n\\t\\t</li>\\n\\t\\t<li><a href=\"assets/files/DistrictWiseList324.pdf\" target=\"_blank\">District Reportings</a></li>\\n\\t\\t<li><a class=\"trigger-awareness\" href=\"#site-awareness\">Awareness</a></li>\\n\\t\\t<li><a class=\"trigger-faq\" href=\"#site-faq\">FAQs</a></li>\\n\\t</ul>\\n\\t<!-- Canvas Menu Close Start -->\\n\\t<a class=\"m-close\" href=\"#\"><span class=\"fa fa-times\" aria-hidden=\"true\"></span></a>\\n\\t<!-- Canvas Menu Close End -->\\n</aside>\\n\\n<div class=\"main-body-content\">\\n<header class=\"header-section\">\\n<div class=\"header-top\">\\n\\t<div class=\"container\">\\n\\t\\t<div class=\"row\">\\n\\t\\t<div class=\"col-xs-12 clearfix\" aria-label=\"primary\">\\n\\t\\t<a href=\"https://india.gov.in\" class=\"india-logo\" target=\"_blank\">\\n\\t\\t<img src=\"assets/images/logo-flag.png\" alt=\"India Flag\">\\n\\t\\t<span>India</span>\\n\\t\\t</a>\\n\\t\\t<div class=\"accessibility-menu\">\\n\\t\\t\\t<ul>\\n\\t\\t\\t\\t<li class=\"skip-content\">\\n\\t\\t\\t\\t\\t<a href=\"#main-content\" aria-label=\"Skip to main content\" title=\"Skip to main content\">\\n\\t\\t\\t\\t\\t<span class=\"mob-hide\">Skip to main content</span>\\n\\t\\t\\t\\t\\t<span class=\"mob-show\"><span style=\"transform:rotate(90deg);\" class=\"glyphicon glyphicon-share-alt\" aria-hidden=\"true\"></span></span></a>\\n\\t\\t\\t\\t</li>\\n\\t\\t\\t\\t<li class=\"social-share\">\\n\\t\\t\\t\\t\\t<a href=\"#\" aria-label=\"Social Media Links\" title=\"Social Media Links\">\\n\\t\\t\\t\\t\\t<span class=\"fa fa-facebook\" aria-hidden=\"true\"></span>\\n\\t\\t\\t\\t\\t<span class=\"fa fa-twitter\" aria-hidden=\"true\"></span>\\n\\t\\t\\t\\t\\t<span class=\"fa fa-youtube-play\" aria-hidden=\"true\"></span>\\n\\t\\t\\t\\t\\t</a>\\n\\t\\t\\t\\t\\t<ul class=\"dropdown-social\">\\n\\t\\t\\t\\t\\t\\t<li><a href=\"https://www.facebook.com/MoHFWIndia/posts/?ref=page_internal\" aria-label=\"Facebook | External site that opens in a new window\"  target=\"_blank\"><img src=\"assets/images/icon-facebook.png\" alt=\"Facebook Icon\"/></a></li>\\n\\t\\t\\t\\t\\t\\t<li><a href=\"https://twitter.com/MoHFW_INDIA\" aria-label=\"Twitter | External site that opens in a new window\" target=\"_blank\"><img src=\"assets/images/icon-twitter.png\" alt=\"Twitter Icon\"/></a></li>\\n\\t\\t\\t\\t\\t\\t<li><a href=\"https://pib.gov.in/newsite/pmreleases.aspx?mincode=31\" aria-label=\"Press Information Bureau\" target=\"_blank\">PIB</a></li>\\n\\t\\t\\t\\t\\t\\t<li><a href=\"https://www.youtube.com/user/mohfwindia\" aria-label=\"Youtube | External site that opens in a new window\" target=\"_blank\"><img src=\"assets/images/icon-youtube.png\" alt=\"Youtube Icon\"/></a></li>\\n\\t\\t\\t\\t\\t\\t<li><a href=\"https://www.who.int/\" aria-label=\"Youtube | External site that opens in a new window\" target=\"_blank\"><img src=\"assets/images/who.png\" alt=\"WHO Icon\"/></a></li>\\n\\t\\t\\t\\t\\t</ul>\\n\\t\\t\\t\\t</li>\\n\\t\\t\\t\\t<li class=\"text-sizing\" aria-label=\"Font size and Contrast controls\">\\n\\t\\t\\t\\t\\t<a href=\"#\" aria-label=\"Font Size Increase\" title=\"Font Size Increase\"><span aria-hidden=\"true\">A+</span></a>\\n\\t\\t\\t\\t\\t<a href=\"#\" aria-label=\"Normal Font\" title=\"Normal Font\"><span aria-hidden=\"true\">A</span></a>\\n\\t\\t\\t\\t\\t<a href=\"#\" aria-label=\"Font Size Decrease\" title=\"Font Size Decrease\"><span aria-hidden=\"true\">A-</span></a>\\n\\t\\t\\t\\t</li>\\n\\t\\t\\t\\t<li class=\"site-contrast\">\\n\\t\\t\\t\\t\\t<div class=\"contrast-btn-grp\">\\n\\t\\t\\t\\t\\t<a href=\"#\" class=\"dark-contrast\" aria-label=\"High Contrast\" title=\"High Contrast\">A</a>\\n\\t\\t\\t\\t\\t<a href=\"#\" class=\"normal-contrast\" aria-label=\"Normal Contrast\" title=\"Normal Contrast\">A</a>\\n\\t\\t\\t\\t\\t</div>\\n\\t\\t\\t\\t</li>\\n\\t\\t\\t\\t<li>\\n\\t\\t\\t\\t\\t<a href=\"https://main.mohfw.gov.in/\" target=\"_blank\">Main Site</a>\\n\\t\\t\\t\\t</li>\\n\\t\\t\\t</ul>\\n\\t\\t</div><!--accessibility-menu-->\\n\\t\\t</div><!-- clearfix-->\\n\\t</div><!-- row-->\\n\\t</div><!-- container-->\\n</div><!-- header-top-->\\n<div class=\"header-sticky\">\\n\\t<div class=\"header-middle\">\\n\\t\\t<div class=\"container\">\\n\\t\\t<div class=\"row\">\\n\\t\\t\\t<div class=\"col-xs-12\">\\n\\t\\t\\t<a class=\"logo\" href=\"#\" aria-label=\"Go to home\" rel=\"home\">\\n\\t\\t\\t\\t<img src=\"assets/images/emblem.png\" alt=\"State Emblem of India\"/>\\n\\t\\t\\t\\t<div class=\"logo-text\">\\n\\t\\t\\t\\t<h1>Ministry of Health <br> and Family Welfare</h1>\\n\\t\\t\\t\\t<strong>Government of India</strong>\\n\\t\\t\\t\\t</div>\\n\\t\\t\\t</a>\\n\\t\\t\\t<div class=\"header-right\">\\n\\t\\t\\t\\t<a class=\"mob-show menuToggle\" href=\"javascript:void(0);\"> <span class=\"fa fa-bars\" aria-hidden=\"true\"></span></a>\\n\\t\\t\\t\\t<nav class=\"menu\">\\n\\t\\t\\t\\t<ul class=\"nav clearfix\">\\n\\t\\t\\t\\t\\t<li class=\"active\"> <a href=\"index.html\">Home</a> </li>\\n\\t\\t\\t\\t\\t<!--<li><a href=\"#\">Dashboard</a></li>-->\\n\\t\\t\\t\\t\\t<li><a class=\"trigger-update\" href=\"#latest-update\">Latest Updates</a></li>\\n\\t\\t\\t\\t\\t<li>\\n\\t\\t\\t\\t\\t<a class=\"trigger-advisories\" href=\"#site-advisories\">Resources</a>\\n\\t\\t\\t\\t\\t<ul class=\"submenu\">\\n\\t\\t\\t\\t\\t<li><a data-id=\"travel\" href=\"#\">Travel Advisories</a></li>\\n\\t\\t\\t\\t\\t<li><a data-id=\"bh\" href=\"#\">Behavioural Health</a></li>\\n\\t\\t\\t\\t\\t<li><a data-id=\"citizens\" href=\"#\">Citizens</a></li>\\n\\t\\t\\t\\t\\t<li><a data-id=\"hospitals\" href=\"#\">Hospitals</a></li>\\n\\t\\t\\t\\t\\t<li><a data-id=\"tm\" href=\"#\">Training Material</a></li>\\n\\t\\t\\t\\t\\t<li><a data-id=\"state\" href=\"#\">States / Departments / Ministries</a></li>\\n\\t\\t\\t\\t\\t<li><a data-id=\"employees\" href=\"#\">Employees</a></li>\\n\\t\\t\\t\\t\\t<li><a data-id=\"awareness\" href=\"#\">Awareness Material</a></li>\\n\\t\\t\\t\\t\\t</ul>\\n\\t\\t\\t\\t\\t</li>\\n\\t\\t\\t\\t\\t<li><a href=\"https://www.mohfw.gov.in/pdf/DistrictWiseList324.pdf\" target=\"_blank\">District Reportings</a></li>\\n\\t\\t\\t\\t\\t<li><a class=\"trigger-awareness\" href=\"#site-awareness\">Awareness</a></li>\\n\\t\\t\\t\\t\\t<li><a class=\"trigger-faq\" href=\"#site-faq\">FAQs</a></li>\\n\\t\\t\\t\\t\\t</ul>\\n\\t\\t\\t\\t</nav>\\n\\t\\t\\t</div>\\n\\t\\t\\t</div>\\n\\t\\t</div>\\n\\t\\t</div>\\n\\t</div>\\n</div><!-- header sticky-->\\n\\n\\n<div class=\"header-bottom\">\\n\\t<div class=\"container\">\\n\\t\\t<div class=\"row\">\\n\\t\\t\\t<div class=\"col-xs-12 text-center\">\\n\\t\\t\\t<div class=\"site-meta\">\\n\\t\\t\\t\\t<strong>Helpline Number :</strong>+91-11-23978046\\n\\t\\t\\t</div>\\n\\t\\t\\t<div class=\"site-meta\">\\n\\t\\t\\t\\t<strong>Toll Free :</strong> 1075\\n\\t\\t\\t</div>\\n\\t\\t\\t<div class=\"site-meta\">\\n\\t\\t\\t\\t<strong>Helpline Email ID :</strong> <a href=\"mailto:ncov2019@gov.in\">ncov2019@gov.in </a>\\n\\t\\t\\t</div>\\n\\t\\t\\t<div class=\"site-meta\">\\n\\t\\t\\t\\t<strong> <a href=\"https://www.mohfw.gov.in/pdf/coronvavirushelplinenumber.pdf\" target=\"_blank\">States & Union Territories (View pdf)</strong></a>\\n\\t\\t\\t</div>\\n\\t\\t\\t</div>\\n\\t\\t</div>\\n\\t</div>\\n</div>  \\n</header>\\n\\n<div id=\"main-content\">\\n\\n<section id=\"site-dashboard\" class=\"site-stats\">\\n\\t<div class=\"container\">\\n\\t<div class=\"row\">\\n\\t<div class=\"col-xs-12\">\\n\\t<div class=\"site-stats-count\">\\n\\t\\t<ul>\\n\\t\\t<li class=\"bg-blue\">\\n\\t\\t<img src=\"assets/images/icon-infected.png\" alt=\"Active Status\">\\n\\t\\t<strong>1466</strong>\\n\\t\\t<span>Active Cases</span>\\n\\t\\t</li>\\n\\t\\t<li class=\"bg-green\">\\n\\t\\t<img src=\"assets/images/icon-inactive.png\" alt=\"Inactive Status\">\\n\\t\\t<strong>132</strong>\\n\\t\\t<span class=\"mob-hide\">Cured / Discharged </span>\\n\\t\\t<span class=\"mob-show\">Cured/ </span>\\n\\t\\t<span class=\"mob-show\">Discharged </span>\\n\\t\\t</li>\\t\\t\\t\\t\\t\\t\\t\\t\\n\\t\\t<li class=\"bg-red\">\\n\\t\\t<img src=\"assets/images/icon-death.png\" alt=\"Death Status\">\\n\\t\\t<strong>38</strong>\\n\\t\\t<span>Deaths</span>\\n\\t\\t</li>\\n\\t\\t<li class=\"bg-orange\">\\n\\t\\t<img src=\"assets/images/icon-active.png\" alt=\"Inactive Status\">\\n\\t\\t<strong>1</strong>\\n\\t\\t<span>Migrated</span>\\n\\t\\t</li>\\n\\t\\t<li class=\"icon-dashboard\">\\n\\t\\t<a class=\"trigger-advisories\" href=\"#site-advisories\"><img src=\"assets/images/icon-advisories.png\" alt=\"Advisories\"></a>\\n\\t\\t<a class=\"trigger-state\" href=\"#state-data\"><img src=\"assets/images/icon-state.png\" alt=\"State Data\"></a>\\n\\t\\t</li>\\n\\t\\t</ul>\\n\\t\\t<div class=\"status-update\">\\n\\t\\t<h2>COVID-19 INDIA <span>as on : 01 April 2020, 09:00 GMT+5:30</span></h2>\\n\\t\\t</div>\\n\\t</div><!--site-stats-count-->\\n\\t</div><!--col-xs-->\\n\\t</div><!--row-->\\n\\t</div><!--container-->\\n</section>\\n\\n<header class=\"header-section\">\\n<div class=\"header-bar\">\\n\\t<div class=\"container\">\\n\\t\\t<div class=\"row\">\\n\\t\\t\\t<div class=\"col-xs-12 text-center\">\\n\\t\\t\\t<div class=\"site-meta\">\\n\\t\\t\\t\\t<span class=\"blinking bar\">For any technical enquiry with respect to COVID19, you may kindly email on <strong><a href=\"mailto:technicalquery.covid19@gov.in\">technicalquery.covid19@gov.in</a></strong></span>\\n\\t\\t\\t</div>\\n\\t\\t\\t</div>\\n\\t\\t</div>\\n\\t</div>\\n</div> \\n</header> \\n\\n<!--latest Update -->\\n<section id=\"latest-update\" class=\"site-update\">\\n\\t<div class=\"container\">\\n\\t<div class=\"row\">\\n\\t\\t<div class=\"col-xs-12\">\\n\\t\\t<h2>Latest Updates</h2>\\n\\t\\t</div>\\n\\t</div>\\n\\t<div class=\"row equal-height\">\\n\\t<div class=\"col-lg-4 col-md-4 col-sm-6 col-xs-12\">\\n\\t\\t\\t<div class=\"update-box\">\\n\\t\\t\\t<p><strong>01.04.2020</strong><a  href=\"https://www.mohfw.gov.in/pdf/SupremeCourtOrderonmigrants.pdf\" target=\"_BLANK\">Letter from Secretary Health to Chief Secretaries of all States/UTs in connection with directions of Hon\\'ble Supreme Court for migrant labourers  </a></p>\\n\\t\\t\\t</div>\\n\\t\\t</div>\\n\\t<div class=\"col-lg-4 col-md-4 col-sm-6 col-xs-12\">\\n\\t\\t\\t<div class=\"update-box\">\\n\\t\\t\\t<p><strong>01.04.2020</strong><a  href=\"https://www.mohfw.gov.in/pdf/RevisedPsychosocialissuesofmigrantsCOVID19.pdf\" target=\"_BLANK\">Psychosocial issues  among  migrants  during  COVID-19  </a></p>\\n\\t\\t\\t</div>\\n\\t\\t</div>\\n\\t<div class=\"col-lg-4 col-md-4 col-sm-6 col-xs-12\">\\n\\t\\t\\t<div class=\"update-box\">\\n\\t\\t\\t<p><strong>31.03.2020</strong><a  href=\"https://www.mohfw.gov.in/pdf/DOtoStatesUTsreg.pdf\" target=\"_BLANK\"> DO Letter of Secretary, Department of Rural Development regarding utilizing services of DDU-GKY trained youth  </a></p>\\n\\t\\t\\t</div>\\n\\t\\t</div>\\n\\t\\t<div class=\"col-lg-4 col-md-4 col-sm-6 col-xs-12\">\\n\\t\\t\\t<div class=\"update-box\">\\n\\t\\t\\t<p><strong>31.03.2020</strong><a  href=\"https://www.mohfw.gov.in/pdf/CopyofDDUGKY.xlsx\" target=\"_BLANK\"> List of youth trained under DDU-GKY (Deen Dayal Upadhyaya Grameen Kaushal Yojna)  </a></p>\\n\\t\\t\\t</div>\\n\\t\\t</div>\\n\\t<div class=\"col-lg-4 col-md-4 col-sm-6 col-xs-12\">\\n\\t\\t\\t<div class=\"update-box\">\\n\\t\\t\\t<p><strong>31.03.2020</strong><a  href=\"https://www.mohfw.gov.in/pdf/Advisoryforquarantineofmigrantworkers.pdf\" target=\"_BLANK\"> Advisory for quarantine of migrant workers  </a></p>\\n\\t\\t\\t</div>\\n\\t\\t</div>\\n\\t\\t<div class=\"col-lg-4 col-md-4 col-sm-6 col-xs-12\">\\n\\t\\t\\t<div class=\"update-box\">\\n\\t\\t\\t<p><strong>31.03.2020</strong><a  href=\"https://www.mohfw.gov.in/pdf/RevisedNationalClinicalManagementGuidelineforCOVID1931032020.pdf\" target=\"_BLANK\"> Revised National Clinical Management Guidelines for COVID-19   </a></p>\\n\\t\\t\\t</div>\\n\\t\\t</div>\\n\\t\\t<div class=\"col-lg-4 col-md-4 col-sm-6 col-xs-12\">\\n\\t\\t\\t<div class=\"update-box\">\\n\\t\\t\\t<p><strong>31.03.2020</strong><a  href=\"https://youtu.be/uHB3WJsLJ8s\" target=\"_BLANK\"> Video on Practical tips to take care of your Mental Health during the Stay In </a></p>\\n\\t\\t\\t</div>\\n\\t\\t</div>\\n\\t\\t\\n\\t\\n\\t<div class=\"col-lg-4 col-md-4 col-sm-6 col-xs-12\">\\n\\t\\t\\t<div class=\"update-box\">\\n\\t\\t\\t<p><strong>31.03.2020</strong><a  href=\"https://www.mohfw.gov.in/pdf/1PreliminaryStakeholderEngagementPlan.pdf\" target=\"_BLANK\"> Preliminary Stakeholder Engagement Plan (SEP) \\xe2\\x80\\x93 India COVID-19 Emergency Response and Health Systems Preparedness Project (P173836)  </a></p>\\n\\t\\t\\t</div>\\n\\t\\t</div>\\n\\t\\t<div class=\"col-lg-4 col-md-4 col-sm-6 col-xs-12\">\\n\\t\\t\\t<div class=\"update-box\">\\n\\t\\t\\t<p><strong>31.03.2020</strong><a  href=\"https://www.mohfw.gov.in/pdf/2EnvironmentalandSocialCommitmentPlanESCP.pdf\" target=\"_BLANK\"> Environmental and Social Commitment Plan (ESCP) - India COVID-19 Emergency Response and Health Systems Preparedness Project (P173836)  </a></p>\\n\\t\\t\\t</div>\\n\\t\\t</div>\\n\\t\\t<div class=\"col-lg-4 col-md-4 col-sm-6 col-xs-12\">\\n\\t\\t\\t<div class=\"update-box\">\\n\\t\\t\\t<p><strong>31.03.2020</strong><a  href=\"https://www.mohfw.gov.in/pdf/MoHFWCOVIDNODALOFFICER.pdf\" target=\"_BLANK\"> Handling Public Grievances pertaining to COVID-19 in M/o Health & Family Welfare</a></p>\\n\\t\\t\\t</div>\\n\\t\\t</div>\\n\\t\\t\\n\\t<div class=\"col-lg-4 col-md-4 col-sm-6 col-xs-12\">\\n\\t\\t\\t<div class=\"update-box\">\\n\\t\\t\\t<p><strong>31.03.2020</strong><a  href=\"https://www.mohfw.gov.in/pdf/EssentialTechfeaturesforVentilators.pdf\" target=\"_BLANK\"> Essential Technical Features for Ventilator for COVID-19 </a></p>\\n\\t\\t\\t</div>\\n\\t\\t</div>\\n\\t\\n\\t<div class=\"col-lg-4 col-md-4 col-sm-6 col-xs-12\">\\n\\t\\t\\t<div class=\"update-box\">\\n\\t\\t\\t<p><strong>31.03.2020</strong> <a  href=\"https://www.mohfw.gov.in/pdf/MindingourmindsduringCoronaeditedat.pdf\" target=\"_BLANK\"> Minding our minds during the COVID-19 </a></p>\\n\\t\\t\\t</div>\\n\\t\\t</div>\\n\\t<div class=\"col-lg-4 col-md-4 col-sm-6 col-xs-12\">\\n\\t\\t\\t<div class=\"update-box\">\\n\\t\\t\\t<p><strong>31.03.2020</strong> <a  href=\"https://www.mohfw.gov.in/pdf/AIIMSCOVIDWebinarScheduleRevised.pdf\" target=\"_BLANK\"> Revised Webinar schedule of COVID-19 of AIIMS New Delhi </a></p>\\n\\t\\t\\t</div>\\n\\t\\t</div>\\n\\t\\n\\t\\t<div class=\"col-lg-4 col-md-4 col-sm-6 col-xs-12\">\\n\\t\\t\\t<div class=\"update-box\">\\n\\t\\t\\t<p><strong>30.03.2020</strong> <a  href=\"https://www.youtube.com/channel/UClhIpqB1ENbKtsWsVk0P_vg\" target=\"_BLANK\">Webinar series for Epidemiology, Infection Control, Clinical Management and Nursing of COVID-19 by AIIMS New Delhi  </a></p>\\n\\t\\t\\t</div>\\n\\t\\t</div>\\n\\t\\t<div class=\"col-lg-4 col-md-4 col-sm-6 col-xs-12\">\\n\\t\\t\\t<div class=\"update-box\">\\n\\t\\t\\t<p><strong>30.03.2020</strong> <a  href=\"https://www.mohfw.gov.in/pdf/TrainingresourcesforCOVID1930MARCH.pdf\" target=\"_BLANK\">Training Resources </a></p>\\n\\t\\t\\t</div>\\n\\t\\t</div>\\n\\t\\t<div class=\"col-lg-4 col-md-4 col-sm-6 col-xs-12\">\\n\\t\\t\\t<div class=\"update-box\">\\n\\t\\t\\t<p><strong>30.03.2020</strong> <a  href=\"http://health.delhigovt.nic.in/wps/wcm/connect/95096c804dacdc9595abf7982ee7a5c7/oLand.pdf?MOD=AJPERES&lmod=276494546&CACHEID=95096c804dacdc9595abf7982ee7a5c7\" target=\"_BLANK\">Order issued by the Government of NCT of Delhi Relating to Landlords, House Owners dated 24 March 2020 </a></p>\\n\\t\\t\\t</div>\\n\\t\\t</div>\\n\\t\\t<div class=\"col-lg-4 col-md-4 col-sm-6 col-xs-12\">\\n\\t\\t\\t<div class=\"update-box\">\\n\\t\\t\\t<p><strong>30.03.2020</strong> <a  href=\"http://health.delhigovt.nic.in/wps/wcm/connect/db6065004dacd86a95a2f7982ee7a5c7/orderSOP?MOD=AJPERES&lmod=276609694&CACHEID=db6065004dacd86a95a2f7982ee7a5c7\" target=\"_BLANK\">Order issued by the Government of NCT of Delhi  Relating to SOPs during Lock Down dated 24 March 2020 </a></p>\\n\\t\\t\\t</div>\\n\\t\\t</div>\\n\\t\\t<div class=\"col-lg-4 col-md-4 col-sm-6 col-xs-12\">\\n\\t\\t\\t<div class=\"update-box\">\\n\\t\\t\\t<p><strong>30.03.2020</strong> <a  href=\"https://www.mohfw.gov.in/pdf/SecysMHLetter2932020regconsolidatedguidelinesandmigrantlabourers.pdf\" target=\"_BLANK\">D.O Letter from Home Secretary to all Secretaries of Government Of India  on movement of Goods dated 29.03.2020   </a></p>\\n\\t\\t\\t</div>\\n\\t\\t</div>\\n\\t\\t\\n\\t\\t\\n\\t\\t\\n\\t\\t\\n\\t\\t\\t\\t\\n\\t</div>\\n</section>\\n\\n<section id=\"state-data\" class=\"site-update\">\\n<div class=\"container\">\\n<div class=\"row\">\\n<div class=\"col-xs-12\">\\n<h2><a class=\"open-table\" href=\"#\"> COVID-19 Statewise Status (Click to expand)</a></h2>\\n<div class=\"data-table table-responsive\">\\t\\t\\n<table border=\"1\" cellspacing=\"1\" cellpadding=\"1\" class=\"table table-striped\" style=\"font-weight:bold\">\\n<thead>\\n\\t<tr>\\n\\t<th><strong>S. No.</strong></th>\\n\\t<th><strong>Name of State / UT</strong></th>\\n\\t<th><strong>Total Confirmed cases (Including 49 foreign Nationals) </strong></th>                              \\n\\t<th><strong>Cured/Discharged/<br>Migrated</strong></th>\\n\\t<th><strong>Death</strong></th>\\n\\t</tr>\\n</thead>\\t\\n<tbody>\\n\\t<tr>\\n\\t<td>1</td>\\n\\t<td>Andhra Pradesh</td>\\n\\t<td>83</td>\\n\\t<td>1</td>\\n\\t<td>0</td>\\n\\t</tr>\\n\\t\\n\\t<tr>\\n\\t<td>2</td>\\n\\t<td>Andaman and Nicobar Islands</td>\\n\\t<td>10</td>\\n\\t<td>0</td>\\n\\t<td>0</td>\\n\\t</tr>\\n\\t\\n\\t<tr>\\n\\t<td>3</td>\\n\\t<td>Bihar</td>\\n\\t<td>23</td>\\n\\t<td>0</td>\\n\\t<td>1</td>\\n\\t</tr>\\n\\t\\n\\t<tr>\\n\\t<td>4</td>\\n\\t<td>Chandigarh</td>\\n\\t<td>13</td>\\n\\t<td>0</td>\\n\\t<td>0</td>\\n\\t</tr>\\n\\t\\n\\t<tr>\\n\\t<td>5</td>\\n\\t<td>Chhattisgarh</td>\\n\\t<td>9</td>\\n\\t<td>0</td>\\n\\t<td>0</td>\\n\\t</tr>\\n\\t\\n\\t<tr>\\n\\t<td>6</td>\\n\\t<td>Delhi</td>\\n\\t<td>120</td>\\n\\t<td>6</td>\\n\\t<td>2</td>\\n\\t</tr>\\n\\t\\n\\t<tr>\\n\\t<td>7</td>\\n\\t<td>Goa</td>\\n\\t<td>5</td>\\n\\t<td>0</td>\\n\\t<td>0</td>\\n\\t</tr>\\n\\t\\n\\t<tr>\\n\\t<td>8</td>\\n\\t<td>Gujarat</td>\\n\\t<td>74</td>\\n\\t<td>5</td>\\n\\t<td>6</td>\\n\\t</tr>\\n\\t\\n\\t<tr>\\n\\t<td>9</td>\\n\\t<td>Haryana</td>\\n\\t<td>43</td>\\n\\t<td>21</td>\\n\\t<td>0</td>\\n\\t</tr>\\n\\t\\n\\t<tr>\\n\\t<td>10</td>\\n\\t<td>Himachal Pradesh</td>\\n\\t<td>3</td>\\n\\t<td>0</td>\\n\\t<td>1</td>\\n\\t</tr>\\n\\t\\n\\t<tr>\\n\\t<td>11</td>\\n\\t<td>Jammu and Kashmir</td>\\n\\t<td>55</td>\\n\\t<td>2</td>\\n\\t<td>2</td>\\n\\t</tr>\\n\\t\\n\\t<tr>\\n\\t<td>12</td>\\n\\t<td>Karnataka</td>\\n\\t<td>101</td>\\n\\t<td>8</td>\\n\\t<td>3</td>\\n\\t</tr>\\n\\t\\n\\t<tr>\\n\\t<td>13</td>\\n\\t<td>Kerala</td>\\n\\t<td>241</td>\\n\\t<td>23</td>\\n\\t<td>2</td>\\n\\t</tr>\\n\\t\\n\\t<tr>\\n\\t<td>14</td>\\n\\t<td>Ladakh</td>\\n\\t<td>13</td>\\n\\t<td>3</td>\\n\\t<td>0</td>\\n\\t</tr>\\n\\n\\t<tr>\\n\\t<td>15</td>\\n\\t<td>Madhya Pradesh</td>\\n\\t<td>47</td>\\n\\t<td>0</td>\\n\\t<td>3</td>\\n\\t</tr>\\n\\t\\n\\t<tr>\\n\\t<td>16</td>\\n\\t<td>Maharashtra</td>\\n\\t<td>302</td>\\n\\t<td>39</td>\\n\\t<td>9</td>\\n\\t</tr>\\n\\t\\n\\t<tr>\\n\\t<td>17</td>\\n\\t<td>Manipur</td>\\n\\t<td>1</td>\\n\\t<td>0</td>\\n\\t<td>0</td>\\n\\t</tr>\\n\\t\\n\\t<tr>\\n\\t<td>18</td>\\n\\t<td>Mizoram</td>\\n\\t<td>1</td>\\n\\t<td>0</td>\\n\\t<td>0</td>\\n\\t</tr>\\n\\n\\t<tr>\\n\\t<td>19</td>\\n\\t<td>Odisha</td>\\n\\t<td>4</td>\\n\\t<td>0</td>\\n\\t<td>0</td>\\n\\t</tr>\\n\\n\\t<tr>\\n\\t<td>20</td>\\n\\t<td>Puducherry</td>\\n\\t<td>1</td>\\n\\t<td>0</td>\\n\\t<td>0</td>\\n\\t</tr>\\n\\n\\t<tr>\\n\\t<td>21</td>\\n\\t<td>Punjab</td>\\n\\t<td>41</td>\\n\\t<td>1</td>\\n\\t<td>3</td>\\n\\t</tr>\\n\\t\\n\\t<tr>\\n\\t<td>22</td>\\n\\t<td>Rajasthan</td>\\n\\t<td>93</td>\\n\\t<td>3</td>\\n\\t<td>0</td>\\n\\t</tr>\\n\\n\\t<tr>\\n\\t<td>23</td>\\n\\t<td>Tamil Nadu</td>\\n\\t<td>124</td>\\n\\t<td>4</td>\\n\\t<td>1</td>\\n\\t</tr>\\n\\t\\n\\t<tr>\\n\\t<td>24</td>\\n\\t<td>Telengana</td>\\n\\t<td>94</td>\\n\\t<td>1</td>\\n\\t<td>3</td>\\n\\t</tr>\\n\\t\\n\\t<tr>\\n\\t<td>25</td>\\n\\t<td>Uttarakhand</td>\\n\\t<td>7</td>\\n\\t<td>2</td>\\n\\t<td>0</td>\\n\\t</tr>\\n\\t\\n\\t<tr>\\n\\t<td>26</td>\\n\\t<td>Uttar Pradesh</td>\\n\\t<td>103</td>\\n\\t<td>14</td>\\n\\t<td>0</td>\\n\\t</tr>                    \\n\\t\\n\\t<tr>\\n\\t<td>27</td>\\n\\t<td>West Bengal</td>\\n\\t<td>26</td>\\n\\t<td>0</td>\\n\\t<td>2</td>\\n\\t</tr>\\n\\t\\n\\t<tr>\\n\\t<td colspan=\"2\"><strong>Total number of confirmed cases in India</strong></td>\\n\\t<td><strong>1637</strong></td>\\n\\t<td>\\n\\t<strong>133</strong>\\n\\t</td>\\n\\t<td>\\n\\t<strong>38</strong>\\n\\t</td>\\n\\t</tr>\\n\\t<!--<tr>\\n\\t<td colspan=\"5\"><strong>#Remaining 38 cases are being assigned to states to initiate contact tracing</strong></td>\\n\\t</tr>-->\\n</tbody>\\n</table>\\n</div>\\n</div>\\n</div>\\n</div>\\n</section>\\n\\n<section id=\"site-advisories\" class=\"site-update\">\\n<div class=\"container\">\\n<div class=\"row\">\\n<div class=\"col-xs-12\">\\n<h2>Resources</h2>\\n</div>\\n</div>\\n<div class=\"row\">\\n<div class=\"col-xs-12\">\\n<div class=\"tabs-container clearfix\">   \\n<ul class=\"tabs-menu\">\\n<li id=\"travel\" class=\"active\"><a href=\"#\">Travel Advisories</a></li>\\n<li id=\"bh\"><a data-id=\"bh\" href=\"#\">Behavioural Health : Psycho-Social toll free helpline-08046110007</a></li>\\n<li id=\"citizens\"><a data-id=\"citizens\" href=\"#\">Citizens</a></li>\\n<li id=\"hospitals\"><a data-id=\"hospitals\" href=\"#\">Hospitals</a></li>\\n<li id=\"tm\"><a data-id=\"tm\" href=\"#\">Training Material</a></li>\\n<li id=\"state\"><a href=\"#\">States / Departments / Ministries</a></li>\\n<li id=\"employees\"><a href=\"#\">Employees</a></li>\\n<li id=\"awareness\"><a href=\"#\">Awareness Material</a></li>\\n</ul>\\n<div class=\"tab\">\\n<!--travel advisories-->\\n<div class=\"panes\" style=\"display:block;\">\\n\\t<div class=\"tab-content\">\\n\\t<ul>\\n\\t\\t<li><span>20.03.2020</span> <a  href=\"https://www.mohfw.gov.in/pdf/DGSOrder04of2020.pdf\" target=\"_BLANK\">Instructions to all major and minor ports for dealing with(COVID-19)</a></li>\\n\\t\\t<li><span>19.03.2020</span> <a  href=\"https://www.mohfw.gov.in/pdf/Traveladvisory.pdf\" target=\"_BLANK\">Additional Travel Advisory </a></li>\\n\\t\\t<li><span>18.03.2020</span> <a href=\"https://www.mohfw.gov.in/pdf/SOPQuarantineofPassengers.pdf\" target=\"_BLANK\">Standard Operating Procedure for Passenger Movement post Disembarkation </a></li>\\n\\t\\t<li><span>17.03.2020</span> <a  href=\"https://www.mohfw.gov.in/pdf/TravelAdvisory17thMarch.pdf\" target=\"_BLANK\">Additional Travel Advisory</a></li>\\n\\t\\t<li><span>16.03.2020</span> <a  href=\"https://www.mohfw.gov.in/pdf/TravelAdvisory16thMarch.pdf\" target=\"_BLANK\">Additional Travel Advisory </a></li>\\n\\t\\t<li><span>14.03.2020</span> <a href=\"https://www.mohfw.gov.in/pdf/NewinstructionsDt14032020Restirctiononinternationalpassengertraffic.pdf\" target=\"_BLANK\"> Restrictions on International passenger traffic through Land Check Posts </a></li>\\n\\t\\t<li><span>13.03.2020</span> <a  href=\"https://www.mohfw.gov.in/pdf/GuidelinesDT13032020.pdf\" target=\"_BLANK\">Restrictions on International passenger traffic through land check posts-COVID 19 </a></li>\\n\\t\\t<li><span>11.03.2020</span> <a  href=\"https://www.mohfw.gov.in/pdf/ConsolidatedTraveladvisoryUpdated11032020.pdf\" target=\"_BLANK\">Consolidated Travel Advisory - 11 March 2020</a></li>\\n\\t\\t<li><span>11.03.2020</span> <a  href=\"https://www.mohfw.gov.in/pdf/VisarestrictionsrelatedtoCOVID19Ministries.pdf\" target=\"_BLANK\">Visa restrictions issued by Bureau of Immigration (BOI) after meeting of GoM on COVID19 - 11 March 2020 </a></li>\\n\\t\\t<li><span>11.03.2020</span> <a  href=\"https://www.mohfw.gov.in/pdf/HFWnCoVGoM11March2020II.pdf\" target=\"_BLANK\">Decisions- High level Group of Ministers meeting to review current status and actions for prevention and management of COVID-19 </a></li>\\n\\t\\t<li><span>10.03.2020</span> <a  href=\"https://www.mohfw.gov.in/pdf/InternationalCruiseShipsSOPforCovid19.pdf\" target=\"_BLANK\">Standard Operating Procedure (SOP) for COVID-19 Management- International Cruise Ships at major Indian Ports</a></li>\\n\\t\\t<li><span>10.03.2020</span> <a  href=\"https://www.mohfw.gov.in/pdf/AdditionalTravelAdvisory10032020.pdf\" target=\"_BLANK\">Additional Travel Advisory</a></li>\\n\\t\\t<li><span>10.03.2020</span> <a  href=\"https://www.mohfw.gov.in/pdf/AdditionalTravelAdvisory1homeisolation.pdf\" target=\"_BLANK\">Travel Advisory (Home Isolation)</a></li>\\n\\t\\t<li><span>06.03.2020</span> <a  href=\"https://www.mohfw.gov.in/pdf/DraftTraveladvisorytotravelersUpdated06032020.pdf\" target=\"_BLANK\">Travel Advisory</a></li>\\n\\t\\t<li><span>05.03.2020</span> <a  href=\"https://www.mohfw.gov.in/pdf/TravelAdvisory5thMarch.pdf\" target=\"_BLANK\">Travel Advisory </a></li>\\n\\t\\t<li><span>03.03.2020</span> <a  href=\"https://boi.gov.in/content/advisory-travel-and-visa-restrictions-related-covid-19\" target=\"_BLANK\">Travel and Visa restrictions related to COVID-19 in respect of Bureau of Immigration </a></li>\\n\\t\\t<li><span>02.03.2020</span> <a  href=\"https://www.mohfw.gov.in/pdf/Consolidated%20Travel%20advisory%20to%20travelers%20Updated%2002032020.pdf\" target=\"_BLANK\">Travel Advisory</a></li>\\n\\t\\t<li><span>26.02.2020</span> <a  href=\"https://www.mohfw.gov.in/pdf/Consolidated%20Travel%20advisory%20to%20travelers%20Updated%2026-02-2020.pdf\" target=\"_BLANK\">Travel Advisory </a></li>\\n\\t\\t<li><span>05.02.2020</span> <a  href=\"https://www.mohfw.gov.in/pdf/Traveladvisory05022020.pdf\" target=\"_BLANK\">Travel Advisory </a></li>\\n\\t\\t<li><span>25.01.2020</span> <a  href=\"https://www.mohfw.gov.in/pdf/TraveladvisorytotravelersvisitingChina25012020.pdf\" target=\"_BLANK\">Travel Advisory </a></li>\\n\\t\\t<li><span>17.01.2020</span> <a  href=\"https://www.mohfw.gov.in/pdf/TraveladvisorytotravelersvisitingChina17012020.pdf\" target=\"_BLANK\">Travel Advisory </a></li>\\n\\t</ul>                                             \\n\\t</div>\\n</div>\\n<!--travel advisories-->\\n<!--behavioural-->\\n<div class=\"panes\" style=\"display:block;\">\\n\\t<div class=\"tab-content\">\\n\\t<ul>\\n\\t<li><a  href=\"https://www.mohfw.gov.in/pdf/RevisedPsychosocialissuesofmigrantsCOVID19.pdf\" target=\"_BLANK\"> Psychosocial issues  among  migrants  during  COVID-19</a></li>\\n\\t<li><a  href=\"https://youtu.be/uHB3WJsLJ8s\" target=\"_BLANK\"> Video on Practical tips to take care of your Mental Health during the Stay In</a></li>\\n\\t\\n\\t    <li><a  href=\"https://www.mohfw.gov.in/pdf/MindingourmindsduringCoronaeditedat.pdf\" target=\"_BLANK\"> Minding our minds during the COVID-19  </a></li>\\n\\t\\t<li><a  href=\" https://youtu.be/iuKhtSehp24\" target=\"_BLANK\">Various Health Experts on how to manage Mental health & Well Being during COVID-19 outbreak </a></li>\\n\\t\\t<li><a  href=\"https://youtu.be/OYD9bogtJlU\" target=\"_BLANK\">Dr. Shekhar P. Seshadri on \\'Connecting with little ones during the COVID19 Lockdown- English </a></li>\\n\\t\\t<li><a  href=\"https://youtu.be/GPwn_e9iuvg\" target=\"_BLANK\">Dr. Shekhar P. Seshadri on \\'Connecting with little ones during the COVID19 Lockdown- Hindi</a></li>\\n\\t</ul>                                             \\n\\t</div>\\n</div>\\t\\n<!--behavioural advisories-->\\t\\n\\n<!--citizen-->\\n<div class=\"panes\">\\n\\t<div class=\"tab-content\">\\n\\t<ul>\\n\\t\\t<li><span>30.03.2020</span> <a  href=\"http://health.delhigovt.nic.in/wps/wcm/connect/95096c804dacdc9595abf7982ee7a5c7/oLand.pdf?MOD=AJPERES&lmod=276494546&CACHEID=95096c804dacdc9595abf7982ee7a5c7\" target=\"_BLANK\">Order issued by the Government of NCT of Delhi Relating to Landlords, House Owners dated 24 March 2020 </a></li>\\n\\t\\t<li><span>30.03.2020</span> <a  href=\"http://health.delhigovt.nic.in/wps/wcm/connect/db6065004dacd86a95a2f7982ee7a5c7/orderSOP?MOD=AJPERES&lmod=276609694&CACHEID=db6065004dacd86a95a2f7982ee7a5c7\" target=\"_BLANK\">Order issued by the Government of NCT of Delhi  Relating to SOPs during Lock Down dated 24 March 2020 </a></li>\\n\\t\\t<li><span>29.03.2020</span> <a  href=\"https://www.mohfw.gov.in/pdf/AdvisoryforElderlyPopulation.pdf\" target=\"_BLANK\">Health Advisory for Elderly Population of India during COVID-19 </a></li>\\n\\t\\t<li><span>29.03.2020</span> <a  href=\"https://www.mohfw.gov.in/pdf/Guidelinesondisinfectionofcommonpublicplacesincludingoffices.pdf\" target=\"_BLANK\">Guidelines on disinfection of common public places including offices </a></li>\\n\\t\\t<li><span>27.03.2020</span> <a  href=\"https://www.mohfw.gov.in/pdf/OM27march2020.pdf\" target=\"_BLANK\">Office Memorandum-CGHS-Reimbursement of OPD  Medicines Special Sanction in view of COVID-19</a></li>\\n\\t\\t<li><span>27.03.2020</span> <a  href=\"https://www.mohfw.gov.in/pdf/officeorder20032020.pdf\" target=\"_BLANK\">Office Order-CGHS-Guidelines in view of the Corona Virus (COVID-19) Infection-issue of medicines</a></li>\\n\\t\\t<li><span>27.03.2020</span> <a  href=\"https://www.mohfw.gov.in/pdf/officeorder18032020.pdf\" target=\"_BLANK\">Office Order-CGHS-Guidelines in View of COVID-19</a></li>\\n\\t\\t<li><span>26.03.2020</span> <a  href=\"https://www.mohfw.gov.in/pdf/218927g.pdf\" target=\"_BLANK\">Gazette Notification - Hydroxychloroquine  now a schedule H1 drug, can be sold on prescription only</a></li>\\n\\t\\t<li><span>26.03.2020</span> <a  href=\"https://www.mohfw.gov.in/pdf/MoFPMGaribKalyanYojanaPackage.pdf\" target=\"_BLANK\">Press Note on Pradhan Mantri Garib Kalyan Yojna package from Ministry of Finance</a></li>\\n\\t\\t<li><span>16.03.2020</span> <a href=\"https://www.mohfw.gov.in/pdf/SocialDistancingAdvisorybyMOHFW.pdf\" target=\"_BLANK\"> Advisory - Social Distancing</a></li>\\n\\t\\t<li><span>15.03.2020</span> <a  href=\"https://www.mohfw.gov.in/pdf/1584423700568_COVID19GuidelinesonDeadbodymanagement.pdf\" target=\"_BLANK\">Guidelines on Dead Body Management</a></li>\\n\\t\\t<li><span>11.03.2020</span> <a  href=\"https://www.mohfw.gov.in/pdf/Guidelinesforhomequarantine.pdf\" target=\"_BLANK\">Guidelines for home quarantine</a></li>\\n\\t\\t<li><span>11.03.2020</span> <a  href=\"https://www.mohfw.gov.in/pdf/Useofmaskbypublic.pdf\" target=\"_BLANK\">Guidelines on use of masks by public</a></li>\\n\\t\\t<li><span>05.03.2020</span> <a href=\"https://www.mohfw.gov.in/pdf/advisoryformassgathering.pdf\" target=\"_BLANK\"> Advisory - Mass Gatherings</a></li>\\n\\t</ul>                                        \\n\\t</div>\\n</div>\\n<!--citizen-->\\n\\n<!--hospitals-->\\n<div class=\"panes\">\\n\\t<div class=\"tab-content\">\\n\\t<ul>\\n\\t<li><span>31-03-2020</span>\\n\\t<a  href=\"https://www.mohfw.gov.in/pdf/RevisedNationalClinicalManagementGuidelineforCOVID1931032020.pdf\" target=\"_BLANK\"> Revised National Clinical Management Guidelines for COVID-19</a>\\n\\t</li>\\n\\t<li><span>31-03-2020</span>\\n\\t<a  href=\"https://www.mohfw.gov.in/pdf/EssentialTechfeaturesforVentilators.pdf\" target=\"_BLANK\"> Essential Technical Features for Ventilator for COVID-19</a>\\n\\t</li>\\n\\t\\t<li><span>29-03-2020</span>\\n\\t<a  href=\"https://www.mohfw.gov.in/pdf/StandardOperatingProcedureSOPfortransportingasuspectorconfirmedcaseofCOVID19.pdf\" target=\"_BLANK\">Standard Operating Procedure (SOP) for transporting a suspect/confirmed case of COVID-19 </a>\\n\\t\\t</li>\\n\\t\\t<li><span>27-03-2020</span><a  href=\"https://www.mohfw.gov.in/pdf/COVID19SOPfordoctorsandnurses.pdf\" target=\"_BLANK\">SOP for allocation of Residents/PG Students and Nursing Students as part of hospital management of COVID-19 </a>\\n\\t\\t</li>\\n\\t\\t<li><span>27-03-2020</span><a  href=\"https://www.mohfw.gov.in/pdf/OM27march2020.pdf\" target=\"_BLANK\">Office Memorandum-CGHS-Reimbursement of OPD  Medicines Special Sanction in view of COVID-19</a>\\n\\t\\t</li>\\n\\t\\t<li><span>27-03-2020</span><a  href=\"https://www.mohfw.gov.in/pdf/officeorder20032020.pdf\" target=\"_BLANK\">Office \\tOrder-CGHS-Guidelines in view of the Corona Virus (COVID-19) Infection-issue of medicines</a>\\n\\t\\t</li>\\n\\t\\t<li><span>27-03-2020</span><a  href=\"https://www.mohfw.gov.in/pdf/officeorder18032020.pdf\" target=\"_BLANK\">Office Order-CGHS-Guidelines in View of COVID-19</a>\\n\\t\\t</li>\\n\\t\\t<li><span>26-03-2020</span><a  href=\"https://www.mohfw.gov.in/pdf/218927g.pdf\" target=\"_BLANK\">Gazette Notification - Hydroxychloroquine  now a schedule H1 drug, can be sold on prescription only</a></li>\\n\\t\\t<li><span>26-03-2020</span><a  href=\"https://www.mohfw.gov.in/pdf/COVIDWebinarSchedule26March2019.pdf\" target=\"_BLANK\">Webinar schedule of COVID-19 of AIIMS New Delhi</a>\\n\\t\\t</li>\\n\\t\\t<li><span>26-03-2020</span><a  href=\"https://www.mohfw.gov.in/pdf/Doorstepdelivery26B.pdf\" target=\"_BLANK\">Doorstep Delivery of Drugs to Consumers</a>\\n\\t\\t</li>\\n\\t\\t<li><span>25-03-2020</span><a  href=\"https://www.mohfw.gov.in/pdf/Telemedicine.pdf\" target=\"_BLANK\">Telemedicine Practice Guidelines</a>\\n\\t\\t</li>\\n\\t\\t<li><span>24-03-2020</span><a  href=\"https://www.mohfw.gov.in/pdf/ReviewofpricesofEssentialCommodities.pdf\" target=\"_BLANK\">Letter from Ministry of Consumer Affairs, Food & Public Distribution to States to take appropriate measures to ensure the availability of Ethyl Alcohol/Ethanol/ENA to the manufacturers of hand sanitizers in order to contain Corona Virus COVID- l9 </a></li>\\n\\t\\t<li><span>24-03-2020</span>\\n\\t\\t<a  href=\"https://www.mohfw.gov.in/pdf/GuidelinesonrationaluseofPersonalProtectiveEquipment.pdf\" target=\"_BLANK\">Guidelines on rational use of Personal Protective Equipment   </a>\\n\\t\\t</li>\\n\\t\\t<li><span>23-03-2020</span><a  href=\"https://www.mohfw.gov.in/pdf/AdvisoryontheuseofHydroxychloroquinasprophylaxisforSARSCoV2infection.pdf\" target=\"_BLANK\">Advisory on the use of Hydroxy-chloroquin as prophylaxis for SARS-CoV-2 infection </a>\\n\\t\\t</li>\\n\\t\\t<li><span>22-03-2020</span><a  href=\"https://www.mohfw.gov.in/pdf/NotificationofICMguidelinesforCOVID19testinginprivatelaboratoriesiIndia.pdf\" target=\"_BLANK\">Notification of ICMR guidelines for COVID-19 testing in private laboratories in India </a>\\n\\t\\t</li>\\n\\t\\t<li><span>20-03-2020</span> <a href=\"https://www.mohfw.gov.in/pdf/AdvisoryforHospitalsandMedicalInstitutions.pdf\" target=\"_BLANK\">Advisory for Hospitals and Medical Institutions </a></li>\\n\\t\\t<li><span>17-03-2020</span>\\n\\t\\t<a  href=\"https://www.mohfw.gov.in/pdf/LabTestingAdvisory.pdf\" target=\"_BLANK\">Latest Testing Guidelines of Indian Council of Medical Research (ICMR) </a></li>\\n\\t\\t<li><span>17-03-2020</span>\\n\\t\\t<a  href=\"https://www.mohfw.gov.in/pdf/GuidelinesfornotifyingCOVID-19affectedpersonsbyPrivateInstitutions.pdf\" target=\"_BLANK\">Guidelines for notifying COVID-19 affected persons by Private Institutions</a></li>\\n\\t\\t<li><span>17-03-2020</span>\\n\\t\\t<a href=\"https://www.mohfw.gov.in/pdf/Corona%20Discharge-Policy.pdf\" target=\"_BLANK\">Discharge policy for suspect or confirmed Novel Coronavirus (2019-nCoV) cases</a></li>\\n\\t\\t<li><span>17-03-2020</span>\\n\\t\\tUpdated Guidelines on Clinical Management of COVID-19 (Repealed on 31st March 2020)</li>\\n\\t\\t<li><span>15-03-2020</span><a  href=\"https://www.mohfw.gov.in/pdf/MockDrill.pdf\" target=\"_BLANK\">SOP for Mock Drill on 22nd March 2020 for Hospital Preparedness </a></li>\\n\\t\\t<li><span>15-03-2020</span>\\n\\t\\t<a href=\"https://www.mohfw.gov.in/pdf/ICMRrevisedtestingstrategyforCOVID.pdf\" target=\"_BLANK\">Revised Guidelines/Strategy for COVID-19 testing by Indian Council of Medical Research (ICMR)</a></li>\\n\\t\\t<li><span>15-03-2020</span>\\n\\t\\t<a href=\"https://www.mohfw.gov.in/pdf/1584423700568_COVID19GuidelinesonDeadbodymanagement.pdf\" target=\"_BLANK\">Guidelines on Dead Body Management</a></li>\\n\\t\\t<li><span>09-03-2020</span>\\n\\t\\t<a href=\"https://www.mohfw.gov.in/pdf/ICMRstrategyforCOVID19testinginIndia.pdf\" target=\"_BLANK\">ICMR strategy for COVID-19 testing in India</a></li>\\n\\t\\t<li><span>25-01-2020</span>\\n\\t\\t<a href=\"https://www.mohfw.gov.in/pdf//National%20Guidelines%20for%20IPC%20in%20HCF%20-%20final%281%29.pdf\" target=\"_BLANK\">Guidelines for Infection Prevention and Control in Healthcare Facilities</a></li>\\n\\t\\t<li><span>24-01-2020</span>\\n\\t\\t<a href=\"https://www.mohfw.gov.in/pdf/5Sample%20collection_packaging%20%202019-nCoV.pdf\" target=\"_BLANK\">Guidance for sample Collection, Packaging and Transportation for Novel Coronavirus</a></li>\\t\\t\\t\\t\\t\\t\\t\\t\\t\\t\\n\\t</ul>                                        \\n\\t</div>\\n</div>\\n\\n<!--hospitals-->\\n\\n<!--training-->\\n<div class=\"panes\">\\n\\t<div class=\"tab-content\">\\n\\t<ul>\\n\\t<li><span>31-03-2020</span>\\n\\t\\t<a  href=\"https://www.mohfw.gov.in/pdf/AIIMSCOVIDWebinarScheduleRevised.pdf\" target=\"_BLANK\"> Revised Webinar schedule of COVID-19 of AIIMS New Delhi </a>\\n\\t\\t</li>\\n\\t<li><span>30-03-2020</span>\\n\\t\\t<a href=\"https://www.mohfw.gov.in/pdf/TrainingresourcesforCOVID1930MARCH.pdf\" target=\"_BLANK\">Training Resources </a>\\n\\t\\t</li>\\n\\t\\t<li><span>30-03-2020</span>\\n\\t\\t<a href=\"https://www.youtube.com/channel/UClhIpqB1ENbKtsWsVk0P_vg\" target=\"_BLANK\">Webinar series for Epidemiology, Infection Control, Clinical Management and Nursing of COVID-19 by AIIMS New Delhi </a>\\n\\t\\t</li>\\n\\t\\t<li><span>28-03-2020</span>\\n\\t\\t<a href=\"https://www.mohfw.gov.in/pdf/COVIDWEbinar.pdf\" target=\"_BLANK\">Webinar schedule for Nursing officers training of COVID-19 in AIIMS New Delhi </a>\\n\\t\\t</li>\\n\\t\\t</ul>\\n</div>\\n</div>\\n<!--training-->\\t\\n\\t\\n<!--states-->\\n<div class=\"panes\">\\n\\t<div class=\"tab-content\">\\n\\t<ul>\\n\\t<li><span>01-04-2020</span>\\n\\t<a  href=\"https://www.mohfw.gov.in/pdf/SupremeCourtOrderonmigrants.pdf\" target=\"_BLANK\">Letter from Secretary Health to Chief Secretaries of all States/UTs in connection with directions of Hon\\'ble Supreme Court for migrant labourers  </a></li>\\n\\t<li><span>31-03-2020</span>\\n\\t<a  href=\"https://www.mohfw.gov.in/pdf/DOtoStatesUTsreg.pdf\" target=\"_BLANK\"> DO Letter of Secretary, Department of Rural Development regarding utilizing services of DDU-GKY trained youth  </a></li>\\n\\t<li><span>31-03-2020</span>\\n\\t<a  href=\"https://www.mohfw.gov.in/pdf/CopyofDDUGKY.xlsx\" target=\"_BLANK\"> List of youth trained under DDU-GKY (Deen Dayal Upadhyaya Grameen Kaushal Yojna)  </a></li>\\n\\t<li><span>31-03-2020</span>\\n\\t<a  href=\"https://www.mohfw.gov.in/pdf/Advisoryforquarantineofmigrantworkers.pdf\" target=\"_BLANK\"> Advisory for quarantine of migrant workers   </a></li>\\n\\t\\n\\t<li><span>31-03-2020</span>\\n\\t<a  href=\"https://www.mohfw.gov.in/pdf/1PreliminaryStakeholderEngagementPlan.pdf\" target=\"_BLANK\"> Preliminary Stakeholder Engagement Plan (SEP) \\xe2\\x80\\x93 India COVID-19 Emergency Response and Health Systems Preparedness Project (P173836)</a></li>\\n\\t<li><span>31-03-2020</span>\\n\\t<a  href=\"https://www.mohfw.gov.in/pdf/2EnvironmentalandSocialCommitmentPlanESCP.pdf\" target=\"_BLANK\"> Environmental and Social Commitment Plan (ESCP) - India COVID-19 Emergency Response and Health Systems Preparedness Project (P173836)</a></li>\\n\\t<li>\\n\\t<span>30.03.2020</span> \\n\\t<a href=\"https://www.mohfw.gov.in/pdf/SecysMHLetter2932020regconsolidatedguidelinesandmigrantlabourers.pdf\" target=\"_BLANK\">D.O Letter from Home Secretary to all Secretaries of Government Of India  on movement of Goods dated 29.03.2020 </a>\\n\\t</li>\\n\\t<li>\\n\\t<span>29.03.2020</span> \\n\\t<a href=\"https://www.mohfw.gov.in/pdf/Guidelinesondisinfectionofcommonpublicplacesincludingoffices.pdf\" target=\"_BLANK\">Guidelines on disinfection of common public places including offices</a>\\n\\t</li>\\n\\t<li>\\n\\t<span>29.03.2020</span> \\n\\t<a href=\"https://www.mohfw.gov.in/pdf/StandardOperatingProcedureSOPfortransportingasuspectorconfirmedcaseofCOVID19.pdf\" target=\"_BLANK\">Standard Operating Procedure (SOP) for transporting a suspect/confirmed case of COVID-19 </a>\\n\\t</li>\\n\\t<li>\\n\\t<span>28.03.2020</span> \\n\\t<a href=\"https://www.mohfw.gov.in/pdf/NPPADOLETTER28032020.pdf\" target=\"_BLANK\">Letter from National Pharmaceutical Pricing Authority (NPPA) to states for Ensuring availability and distribution of Masks, Gloves and Sanitizers</a>\\n\\t</li>\\n\\t<li>\\n\\t<span>26.03.2020</span> \\n\\t<a href=\"https://www.mohfw.gov.in/pdf/218927g.pdf\" target=\"_BLANK\">Gazette Notification - Hydroxychloroquine  now a schedule H1 drug, can be sold on prescription only</a>\\n\\t</li>\\n\\t<li>\\n\\t<span>26.03.2020</span>\\n\\t<a href=\"https://www.mohfw.gov.in/pdf/ChiefSecretary26032020.pdf\" target=\"_BLANK\">D.O. Letter  from Cabinet Secretary to Chief Secretaries for management and containment of COVID-19 dated 26.03.2020   </a>\\n\\t</li>\\n\\t<li>\\n\\t<span>24.03.2020</span> \\n\\t<a href=\"https://www.mohfw.gov.in/pdf/DOtoChiefSecretariesregCOVID19.pdf\" target=\"_BLANK\">D.O. Letter 3 from Secretary, Human Resource Development to Chief Secretaries for temporary Medical camps in Jawahar Navodaya Vidyalayas dated 24th March 2020  </a>\\n\\t</li>\\n\\t<li>\\n\\t<span>24.03.2020</span> \\n\\t<a  href=\"https://www.mohfw.gov.in/pdf/DOletter_secretary.pdf\" target=\"_BLANK\">DO Letter of Home Secretary regarding urgent need to take stringent actions to contain the spread of COVID-19.</a>\\n\\t</li>\\n\\t<li>\\n\\t<span>24.03.2020</span> \\n\\t<a  href=\"https://www.mohfw.gov.in/pdf/Annexure_MHA.pdf\" target=\"_BLANK\">Annexure to Ministry of Home Affairs Order No. 40-3/2020-D Dated 24-3-2020.</a>\\n\\t</li>\\n\\t<li>\\n\\t<span>24.03.2020</span><a  href=\"https://www.mohfw.gov.in/pdf/cbsecretary2020.pdf\" target=\"_BLANK\">D.O. Letter 2 from Cabinet Secretary to Chief Secretaries for management and containment of COVID-19 dated 24.03.2020  </a>\\n\\t</li>\\n\\t<li>\\n\\t<span>24.03.2020</span> \\n\\t<a  href=\"https://www.mohfw.gov.in/pdf/DOHealthSHIPPING.pdf\" target=\"_BLANK\">D.O. Letter from Secretary Shipping to States for smooth carrying of goods to & from ports</a>\\n\\t</li>\\n\\t<li>\\n\\t<span>24.03.2020</span> <a  href=\"https://www.mohfw.gov.in/pdf/GuidelinesonrationaluseofPersonalProtectiveEquipment.pdf\" target=\"_BLANK\">Guidelines on rational use of Personal Protective Equipment</a>\\n\\t</li>\\n\\t<li>\\n\\t<span>24.03.2020</span> \\n\\t<a  href=\"https://www.mohfw.gov.in/pdf/ModelMicroplanforcontainmentoflocaltransmissionofCOVID19.pdf\" target=\"_BLANK\">Model Micro-plan for containment of local transmission of COVID-19 </a></li>\\n\\t<li>\\n\\t<span>24.03.2020</span> \\n\\t<a  href=\"https://www.mohfw.gov.in/pdf/DOtoChiefSecretariesregCOVID19.pdf\" target=\"_BLANK\">D.O. Letter from Secretary, Human Resource Development to Chief Secretaries for temporary Medical camps in Jawahar Navodaya Vidyalayas dated 24th March 2020 </a>\\n\\t</li>\\n\\t<li>\\n\\t<span>24.03.2020</span> \\n\\t<a  href=\"https://www.mohfw.gov.in/pdf/ReviewofpricesofEssentialCommodities.pdf\" target=\"_BLANK\">Letter from Ministry of Consumer Affairs, Food & Public Distribution to States to take appropriate measures to ensure the availability of Ethyl Alcohol/Ethanol/ENA to the manufacturers of hand sanitizers in order to contain Corona Virus COVID- l9</a>\\n\\t</li>\\n\\t<li>\\n\\t<span>24.03.2020</span> \\n\\t<a  href=\"https://www.mohfw.gov.in/pdf/doletter24032020.pdf\" target=\"_BLANK\">D.O. Letter from Cabinet Secretary to Chief Secretaries for management and containment of COVID-19 dated 24.03.2020</a></li>\\n\\t<li>\\n\\t<span>23.03.2020</span> \\n\\t<a  href=\"https://www.mohfw.gov.in/pdf/DOletter23032020.pdf\" target=\"_BLANK\">D.O. Letter from Cabinet Secretary to Chief Secretaries for management and containment of COVID-19 dated 23.03.2020</a>\\n\\t</li>\\n\\t<li>\\n\\t<span>23.03.2020</span> \\n\\t<a  href=\"https://www.mohfw.gov.in/pdf/ClosingofImmigrationCheckPosts.pdf\" target=\"_BLANK\">Letter from Ministry of Home Affairs - Restrictions on international passenger traffic through Authorized Immigration Check Posts in view of the COVID-19</a>\\n\\t</li>\\n\\t<li>\\n\\t<span>23.03.2020</span> \\n\\t<a  href=\"https://www.mohfw.gov.in/pdf/ministryofshippingOrderdated2332020.pdf\" target=\"_BLANK\"> Office Order from Ministry of Shipping - State Government/Union Territories have issued prohibitory orders, Imposing restrictions on non-essential services in view of the COVID-19</a></li>\\n\\t<li>\\n\\t<span>22.03.2020</span> \\n\\t<a href=\"https://www.mohfw.gov.in/pdf/ChiefSecyDOLetter.pdf\" target=\"_BLANK\">D.O. Letter from Cabinet Secretary to Chief Secretaries for management and containment of COVID-19 dated 22.03.2020</a>\\n\\t</li>\\n\\t<li>\\n\\t<span>21.03.2020</span> \\n\\t<a href=\"https://www.mohfw.gov.in/pdf/ICMRrevisedtestingstrategyforCOVID.pdf\" target=\"_BLANK\">Revised Guidelines/Strategy for COVID-19 testing by Indian Council of Medical Research (ICMR)</a>\\n\\t</li>\\t\\n\\t<li>\\n\\t<span>20.03.2020</span> \\n\\t<a  href=\"https://www.mohfw.gov.in/pdf/DGSOrder04of2020.pdf\" target=\"_BLANK\">Instructions to all major and minor ports for dealing with(COVID-19)</a>\\n\\t</li>\\n\\t<li>\\n\\t<span>20.03.2020</span> \\n\\t<a  href=\"https://www.mohfw.gov.in/pdf/Covid19.pdf\" target=\"_BLANK\">Letter from Secretary, Dept of Higher Education/School Education regarding Digital/e-Learning</a>\\n\\t</li>\\t\\t\\n\\t<li>\\n\\t<span>20.03.2020</span> \\n\\t<a  href=\"https://www.mohfw.gov.in/pdf/MockDrill.pdf\" target=\"_BLANK\">SOP for Mock Drill on 22nd March 2020 for Hospital Preparedness</a>\\n\\t</li>\\t\\n\\t<li>\\n\\t<span>19.03.2020</span> \\n\\t<a  href=\"https://www.mohfw.gov.in/pdf/DepttofSports.pdf\" target=\"_BLANK\">Advisory from Department of Sports for Sports Organizations</a>\\n\\t</li>\\t\\n\\t<li><span>19.03.2020</span> \\n\\t<a  href=\"https://www.mohfw.gov.in/pdf/InstructionsforTrainingInstitutes.pdf\" target=\"_BLANK\">DOPT OM - Preventive measures to contain the spread of COVID-19 in Training Institutes</a>\\n\\t</li>\\t\\n\\t<li>\\n\\t<span>18.03.2020</span> \\n\\t<a  href=\"https://www.mohfw.gov.in/pdf/SanitizerLetter.pdf\" target=\"_BLANK\">Letter from Department of Food & Public Distribution regarding Hand Sanitizer Production and Availability </a>\\n\\t</li>\\t\\n\\t<li>\\n\\t<span>18.03.2020</span> \\n\\t<a href=\"https://www.mohfw.gov.in/pdf/Letterdated2032020toCSs.pdf\" target=\"_BLANK\">DO Letter from Secretary, DoHFW to State Chief Secretaries regarding Social Distancing Measures</a></li>\\t\\n\\t<li>\\n\\t<span>18.03.2020</span> \\n\\t<a href=\"https://www.mohfw.gov.in/pdf/Monitoringofthequalitystandardsofhandsanitizers2020.pdf\" target=\"_BLANK\">Monitoring of the quality standards of hand Sanitizers</a>\\n\\t</li>\\t\\n\\t<li>\\n\\t<span>18.03.2020</span> \\n\\t<a href=\"https://www.mohfw.gov.in/pdf/DOSecyHE.pdf\" target=\"_BLANK\">Directives from MoHRD for all Educational Institutions and Examination Boards regarding precautions to be taken in light of COVID-19</a></li>\\t\\t\\t\\t<li><span>18.03.2020</span> <a href=\"https://www.mohfw.gov.in/pdf/PreventivemeasuresDOPT.pdf\" target=\"_BLANK\">DoPT OM - Preventive measures to be taken to contain the spread of Novel Coronavirus (COVID-19)</a>\\n\\t</li>\\n\\t<li>\\n\\t<span>17-03-2020</span>\\n\\t<a  href=\"https://www.mohfw.gov.in/pdf/GuidelinesfornotifyingCOVID-19affectedpersonsbyPrivateInstitutions.pdf\" target=\"_BLANK\">Guidelines for notifying COVID-19 affected persons by Private Institutions</a>\\n\\t</li>\\n\\t<li>\\n\\t<span>17-03-2020</span>\\n\\t<a  href=\"https://www.mohfw.gov.in/pdf/LabTestingAdvisory.pdf\" target=\"_BLANK\">Latest Testing Guidelines of Indian Council of Medical Research (ICMR) </a></li>\\n\\t<li>\\n\\t<span>16-03-2020</span>\\n\\t<td align=\"centre\" width=\"80%\" valign=\"bottom\" ><a  href=\"https://www.mohfw.gov.in/pdf/SocialDistancingAdvisorybyMOHFW.pdf\" target=\"_BLANK\">Advisory - Social Distancing </a>\\n\\t</li>\\n\\t<li>\\n\\t<span>15-03-2020</span>\\n\\t<td align=\"centre\" width=\"80%\" valign=\"bottom\" ><a  href=\"https://www.mohfw.gov.in/pdf/1584423700568_COVID19GuidelinesonDeadbodymanagement.pdf\" target=\"_BLANK\">Guidelines on Dead Body Management</a>\\n\\t</li>\\n\\t<li>\\n\\t<span>14-03-2020</span>\\n\\t<td align=\"centre\" width=\"80%\" valign=\"bottom\" ><a  href=\"https://www.mohfw.gov.in/pdf/RevisedItem&NormsforutilisationofSDRFdt14032020.pdf\" target=\"_BLANK\">Norms of assistance from State Disaster Response Fund (SDRF) in wake of COVID-19 outbreak</a>\\n\\t</li>\\n\\t<li><span>13-03-2020</span>\\n\\t<td align=\"centre\" width=\"80%\" valign=\"bottom\" ><a  href=\"https://www.mohfw.gov.in/pdf/Orderdated1332020.pdf\" target=\"_BLANK\">National Pharmaceutical Pricing Authority (NPPA) Order regarding Masks, Hand Sanitizers and Gloves </a>\\n\\t</li>\\n\\t<li>\\n\\t<span>13-03-2020</span>\\n\\t<td align=\"centre\" width=\"80%\" valign=\"bottom\" ><a  href=\"https://www.mohfw.gov.in/pdf/218645.pdf\" target=\"_BLANK\">Gazette Notification - Essential Commodities Order, 2020 - with regards to Masks and Hand Sanitizers (770KB)  </a>\\n\\t</li>\\n\\t<li><span>11-03-2020</span>\\n\\t<td align=\"centre\" width=\"80%\" valign=\"bottom\" ><a  href=\"https://www.mohfw.gov.in/pdf/disastermanagmentact.pdf\" target=\"_BLANK\">Invoking powers under Disaster Management Act 2005 </a>\\n\\t</li>\\n\\t<li><span>11-03-2020</span>\\n\\t<td align=\"centre\" width=\"80%\" valign=\"bottom\" ><a  href=\"https://www.mohfw.gov.in/pdf/HFWnCoVGoM11March2020II.pdf\" target=\"_BLANK\">Decisions- High level Group of Ministers meeting to review current status and actions for prevention and management of COVID-19 </a>\\n\\t</li>\\n\\t<li><span>10-03-2020</span>\\n\\t<td align=\"centre\" width=\"80%\" valign=\"bottom\" ><a  href=\"https://www.mohfw.gov.in/pdf/InternationalCruiseShipsSOPforCovid19.pdf\" target=\"_BLANK\">Standard Operating Procedure (SOP) for COVID-19 Management- International Cruise Ships at major Indian Ports</a>\\n\\t</li>\\n\\t<li><span>09-03-2020</span>\\n\\t<a  href=\"https://www.mohfw.gov.in/pdf/ICMRstrategyforCOVID19testinginIndia.pdf\" target=\"_BLANK\">ICMR strategy for COVID-19 testing in India</a>\\n\\t</li>\\n\\t<li><span>09-03-2020</span>\\n\\t<a  href=\"https://www.mohfw.gov.in/pdf/COVIDCabSecLetterGuidelines.pdf\" target=\"_BLANK\">Cabinet Secretary DO letter dated 8th March, 2020 to all Government of India Ministries on COVID-19 management</a>\\n\\t</li>\\n\\t<li><span>06-03-2020</span>\\n\\t<a  href=\"https://www.mohfw.gov.in/pdf/advisoryforbiometricattendance.pdf\" target=\"_BLANK\">Advisory for Exemption to mark biometric attendance in AEBAS</a>\\n\\t</li>\\t\\n\\t<li><span>05-03-2020</span>\\n\\t<a href=\"https://www.mohfw.gov.in/pdf/advisoryformassgathering.pdf\" target=\"_BLANK\"> Advisory - Mass Gatherings</a>\\n\\t</li>\\n\\t<li><span>03-03-2020</span>\\n\\t<a href=\"http://dhs.kerala.gov.in/public-health-2019-n-corona-virus/#\" target=\"_BLANK\">Kerala COVID 19 updates and advisory </a>\\n\\t</li>\\n\\t<li><span>03-03-2020</span>\\n\\t<a href=\"https://www.mohfw.gov.in/pdf/AdvisoryforHospitalsandMedicalInstitutions.pdf\" target=\"_BLANK\">Advisory for Hospitals and Medical Institutions </a>\\n\\t</li>\\n\\t<li><span>25-01-2020</span>\\n\\t<a  href=\"https://www.mohfw.gov.in/pdf/Guidance%20document%20-%202019-nCoV.pdf\" target=\"_BLANK\">Guidance on Surveillance for human infection with 2019-nCoV</a>\\n\\t</li>\\n\\t<li><span>24-01-2020</span>\\n\\t<a  href=\"https://www.mohfw.gov.in/pdf/5Sample%20collection_packaging%20%202019-nCoV.pdf\" target=\"_BLANK\">Guidance for sample Collection, Packaging and Transportation for Novel Coronavirus</a>\\n\\t</li>\\n\\t</ul>                                        \\n\\t</div>\\n</div>\\n<!--states-->\\n\\n<!--employees-->\\n<div class=\"panes\">\\n<div class=\"tab-content\">\\n\\t<ul>\\n\\t<li><span>31-03-2020</span>\\n\\t<a  href=\"https://www.mohfw.gov.in/pdf/Advisoryforquarantineofmigrantworkers.pdf\" target=\"_BLANK\"> Advisory for quarantine of migrant workers   </a></li>\\n\\t\\t<li><span>29-03-2020</span> <a href=\"https://www.mohfw.gov.in/pdf/Guidelinesondisinfectionofcommonpublicplacesincludingoffices.pdf\" target=\"_BLANK\">Guidelines on disinfection of common public places including offices</a></li>\\n\\t\\t<li><span>19-03-2020</span> <a  href=\"https://www.mohfw.gov.in/pdf/InstructionsforTrainingInstitutes.pdf\" target=\"_BLANK\">DOPT OM - Preventive measures to contain the spread of COVID-19 in Training Institutes</a></li>\\n\\t\\t<li><span>18-03-2020</span> <a href=\"https://www.mohfw.gov.in/pdf/DOSecyHE.pdf\" target=\"_BLANK\">Directives from MoHRD for all Educational Institutions and Examination Boards regarding precautions to be taken in light of COVID-19</a></li>\\n\\t\\t<li><span>18.03.2020</span> <a href=\"https://www.mohfw.gov.in/pdf/PreventivemeasuresDOPT.pdf\" target=\"_BLANK\">DoPT OM - Preventive measures to be taken to contain the spread of Novel Coronavirus (COVID-19)</a></li>\\n\\t\\t<li><span>18.03.2020</span> <a href=\"https://www.mohfw.gov.in/pdf/Letterdated2032020toCSs.pdf\" target=\"_BLANK\">DO Letter from Secretary, DoHFW to State Chief Secretaries regarding Social Distancing Measures</a></li>\\n\\t\\t<li><span>06.03.2020</span> <a  href=\"https://www.mohfw.gov.in/pdf/advisoryforbiometricattendance.pdf\" target=\"_BLANK\">Advisory for Exemption to mark biometric attendance in AEBAS</a></li>\\n\\t</ul>                                        \\n</div>\\n</div>\\n<!--employees-->\\n\\n<!--awareness-->\\n<div class=\"panes\">\\n<div class=\"tab-content\">\\n<ul>\\n    <li><a  href=\"https://www.mohfw.gov.in/pdf/MoHFWCOVIDNODALOFFICER.pdf\" target=\"_BLANK\"> Handling Public Grievances pertaining to COVID-19 in M/o Health & Family Welfare</li>\\n    <li><a  href=\"https://youtu.be/5Y-2DtWYy5s\" target=\"_BLANK\"> Video on alleviating the stress of COVID-19 by staying calm and following a daily routine </a></li>\\n\\t<li><a  href=\" https://www.youtube.com/watch?v=htl6ZUQ-b3Y&list=PL1a9DHjZmejE-Ep2PAu2OR8HBfLP0BLIk&index=1\" target=\"_BLANK\">Video from experts from AIIMS, New Delhi sharing basic steps on hand washing to fight against COVID-19 \\xe2\\x80\\x93 English </a></li>\\n\\t<li><a  href=\" https://www.youtube.com/watch?v=8Dt1BTGXn5I&list=PL1a9DHjZmejE-Ep2PAu2OR8HBfLP0BLIk&index=2\" target=\"_BLANK\">Video from experts from AIIMS, New Delhi sharing basic steps on hand washing to fight against COVID-19 - Hindi </a></li>\\n\\t<li><a  href=\" https://www.youtube.com/watch?v=yZd8bPTfYOg&list=PL1a9DHjZmejE-Ep2PAu2OR8HBfLP0BLIk&index=3\" target=\"_BLANK\">Video from experts from AIIMS Advising Stay Home Stay Safe \\xe2\\x80\\x93 English </a></li>\\n\\t<li><a  href=\" https://www.youtube.com/watch?v=IfeWAxE4OZE&list=PL1a9DHjZmejE-Ep2PAu2OR8HBfLP0BLIk&index=4\" target=\"_BLANK\">Video from experts from AIIMS Advising \\xe2\\x80\\x9cStay Home Stay Safe\\xe2\\x80\\x9d \\xe2\\x80\\x93 Hindi </a></li>\\n\\t<li><a href=\"https://www.mohfw.gov.in/pdf/socialdistancingEnglish.pdf\" target=\"_BLANK\">Poster on Social distancing in a market place during COVID-19 English </a></li>\\n\\t<li><a href=\"https://www.mohfw.gov.in/pdf/socialdistancingHindi.pdf\" target=\"_BLANK\">Poster on Social distancing in a market place during COVID-19 Hindi </a></li>\\n\\t<li>COVID-19 Health Service Providers Toolkit: General Health Facilities</li>\\n\\t<ul>\\n\\t\\t<li><a  href=\"https://www.mohfw.gov.in/pdf/HFMLettergeneralawarness.pdf\" target=\"_BLANK\" >1. &nbsp; A letter from HFM to the Health Administrators  </a></li>\\n\\t\\t<li><a  href=\"https://www.mohfw.gov.in/pdf/LeafletGHFandDHGA.pdf\" target=\"_BLANK\">2. &nbsp;Community leaflet  </a></li>\\n\\t\\t<li><a  href=\"https://www.mohfw.gov.in/pdf/Poster1GHFanDHGA.pdf\" target=\"_BLANK\">3.&nbsp; What is Novel Coronavirus?</a></li>\\n\\t\\t<li><a  href=\"https://www.mohfw.gov.in/pdf/Poster2GHFGA.pdf\" target=\"_BLANK\">4.&nbsp;Is your Healthcare facility ready to manage patients with COVID-19?  </a></li>\\n\\t\\t<li>  <a  href=\"https://www.mohfw.gov.in/pdf/Poster3GHFGA.pdf\" target=\"_BLANK\">5.&nbsp;How to use the handrub? </a></li>\\n\\t\\t<li>  <a  href=\"https://www.mohfw.gov.in/pdf/Poster4GHFGA.pdf\" target=\"_BLANK\">6.&nbsp;When and How to wear mask? </a></li>\\n\\t\\t<li>  <a  href=\"https://www.mohfw.gov.in/pdf/GuidelinebookGA1mb.pdf\" target=\"_BLANK\">7.&nbsp;Guidelines on the use of materials </a></li>\\n\\t</ul>\\n\\n\\t<li>COVID-19 Health Service Providers Toolkit: Designated Hospitals</li>\\n\\t<ul>\\n\\t\\t<li><a  href=\"https://www.mohfw.gov.in/pdf/HFMLetter.pdf\" target=\"_BLANK\" >1. &nbsp; A letter from HFM to the Health Administrators  </a></li>\\n\\t\\t<li><a  href=\"https://www.mohfw.gov.in/pdf/LeafletGHFandDH.pdf\" target=\"_BLANK\">2. &nbsp;Community leaflet  </a></li> \\n\\t\\t<li><a  href=\"https://www.mohfw.gov.in/pdf/Poster1GHFandDH.pdf\" target=\"_BLANK\">3.&nbsp; What is Novel Coronavirus?</a></li>\\n\\t\\t<li><a  href=\"https://www.mohfw.gov.in/pdf/Poster2.pdf\" target=\"_BLANK\">4.&nbsp;Is your Healthcare facility ready to manage patients with COVID-19?  </a></li>\\n\\t\\t<li>  <a  href=\"https://www.mohfw.gov.in/pdf/Poster3.pdf\" target=\"_BLANK\">5.&nbsp;How to protect all health workers at designated hospital? </a></li>\\n\\t\\t<li>  <a  href=\"https://www.mohfw.gov.in/pdf/Poster4.pdf\" target=\"_BLANK\">6.&nbsp;What are my moments of hand hygiene? </a></li>\\n\\t\\t<li>  <a  href=\"https://www.mohfw.gov.in/pdf/Poster5DH.pdf\" target=\"_BLANK\">7.&nbsp;How to manage Suspected or confirmed COVID-19 patients at designated hospital? </a></li>\\n\\t\\t<li>  <a  href=\"https://www.mohfw.gov.in/pdf/Guidelinebook1mb.pdf\" target=\"_BLANK\">8.&nbsp;Guidelines on the use of materials </a></li>\\n\\t</ul>\\n\\t<li>COVID-19 Frontline Worker Toolkit in Englsih</li>\\n\\t<ul>\\n\\t\\t<li><a  href=\"https://www.mohfw.gov.in/pdf/FacilitatorGuideCOVID19_27 March.pdf\" target=\"_BLANK\">1. &nbsp;Facilitator Guide  </a></li>\\n\\t\\t<li><a  href=\"https://www.mohfw.gov.in/pdf/2COVID19PPT_25MarchPPTWithAnimation.pdf\" target=\"_BLANK\">2. &nbsp;PPT with seven sessions including for Urban  </a></li> \\n\\t\\t<li><a  href=\"https://www.mohfw.gov.in/pdf/3Pocketbookof5_Covid19_27March.pdf\" target=\"_BLANK\">3.&nbsp; A digital pocket book for frontline workers</a></li>\\n\\t\\t<li><a  href=\"https://www.mohfw.gov.in/pdf/4FLWToolkitHowtousethetoolkit.pdf\" target=\"_BLANK\">4.&nbsp;Training Protocols and guidelines  </a></li>\\n\\t\\t<li>  <a  href=\"https://www.mohfw.gov.in/pdf/5COVIDFLWTrainingPlan27March.pdf\" target=\"_BLANK\">5.&nbsp;Training Plan template </a></li>\\n\\t</ul>\\n\\t<li><a href=\"https://www.mohfw.gov.in/pdf/FINAL_14_03_2020_ENg.pdf\" target=\"_BLANK\">When to get tested for COVID-19 English </a></li>\\n\\t<li><a href=\"https://www.mohfw.gov.in/pdf/FINAL_14_03_2020_Hindi.pdf\" target=\"_BLANK\">When to get tested for COVID-19 Hindi </a></li>\\n\\t<li><a  href=\"https://www.mohfw.gov.in/pdf/PreventionandManagementofCOVID19FLWEnglish.pdf\" target=\"_BLANK\">Role of Frontline Workers in Prevention and Management of CORONA VIRUS- English </a></li>\\n\\t<li><a  href=\"https://www.mohfw.gov.in/pdf/PreventionandManagementofCOVID19FLWHindi.pdf\" target=\"_BLANK\"> Role of Frontline Workers in Prevention and Management of CORONA VIRUS - Hindi </a></li>\\n\\t<li><a  href=\"https://www.mohfw.gov.in/pdf/ProtectivemeasuresEng.pdf\" target=\"_BLANK\">Posters for Safety measures against COVID-19 - English </a></li>\\n\\t<li><a  href=\"https://www.mohfw.gov.in/pdf/ProtectivemeasuresHin.pdf\" target=\"_BLANK\"> Posters for Safety measures against COVID-19 - Hindi </a></li>\\n\\t<li> <a href=\"https://www.mohfw.gov.in/pdf/CoronaComic2PGIPU22Mar20.pdf\" target=\"_BLANK\">KIDS, VAAYU & CORONA : Comic book for children to provide correct information about COVID-19 - Part 2</a></li>\\n\\t<li> <a href=\"https://www.mohfw.gov.in/pdf/PostrerEnglishtraveller.pdf\" target=\"_BLANK\">Posters for Indians traveling from abroad - English  </a></li>\\n\\t<li><a href=\"https://www.mohfw.gov.in/pdf/PosterTravellerHindi.pdf\" target=\"_BLANK\">Posters for Indians traveling from abroad - Hindi </a></li>\\n\\t<li><a href=\"https://www.mohfw.gov.in/pdf/Mask-Eng.pdf\" target=\"_BLANK\">When to wear mask?: English </a></li>\\n\\t<li><a href=\"https://www.mohfw.gov.in/pdf/Mask-Hindi.pdf\" target=\"_BLANK\">When to wear mask?: Hindi </a></li>\\n\\t<li><a href=\"https://www.mohfw.gov.in/pdf/Poster_Corona_ad_Eng.pdf\" target=\"_BLANK\">Do\\'s and Don\\'t Poster in English </a></li>\\n\\t<li><a href=\"https://www.mohfw.gov.in/pdf/Poster_Corona_ad_Hin.pdf\" target=\"_BLANK\">Do\\'s and Don\\'t Poster in Hindi </a></li>\\n\\t<li><a href=\"https://www.youtube.com/playlist?list=PL1a9DHjZmejE-Ep2PAu2OR8HBfLP0BLIk\" target=\"_BLANK\">Watch all COVID-19 management videos here </a></li>\\n\\t<li><a  href=\"https://drive.google.com/drive/folders/1wvEmLyv3w3gUMpJP5VhgZgXruuusRpJS\" target=\"_BLANK\">TV and Radio Spots (English & Hindi) for COVID-19</a></li>\\n\\t<li> <a href=\"https://www.mohfw.gov.in/pdf/Corona_comic_PGI.pdf\" target=\"_BLANK\">KIDS, VAAYU & CORONA : Comic book for children to provide correct information about COVID-19</a></li>\\n</ul>\\n</div>                                        \\n</div>\\n\\n<!--awareness-->\\t\\t\\t\\t\\t\\t\\t\\t\\t\\n</div>\\n</div>\\n</div>\\n</div>\\n</div>\\n</section>\\n\\n        <section id=\"site-awareness\" class=\"site-update\">\\n            <div class=\"container\">\\n                <div class=\"row\">\\n                    <div class=\"col-xs-12\">\\n                        <div class=\"isotope-container\">\\n                            <div class=\"category-nav\">\\n                                <h3>Awareness</h3>\\n                                <ul id=\"filters\">\\n                                    <li class=\"active\"><a data-filter=\".english\" href=\"#\">English</a></li>\\n                                    <li><a data-filter=\".hindi\" href=\"#\">Hindi</a></li>\\n                                </ul>               \\n                            </div>\\n                            <div class=\"isotope clearfix\">\\n                                <div class=\"grid element-item english\">\\n                                    <div class=\"content-box\">\\n                                        <figure>\\n                                            <a href=\"https://www.mohfw.gov.in/pdf/socialdistancingEnglish.pdf\" target=\"_blank\">\\n                                                <img src=\"assets/images/socialdistancingEnglish_page-0001.png\" alt=\"Poster on Social distancing in a market place during COVID-19 English\">\\n                                            </a>\\n                                            </a>\\n                                        </figure>\\n                                    </div>\\n                                </div>\\n                                <div class=\"grid element-item hindi\">\\n                                    <div class=\"content-box\">\\n                                        <figure>\\n                                            <a href=\"https://www.mohfw.gov.in/pdf/socialdistancingHindi.pdf\" target=\"_blank\">\\n                                                <img src=\"assets/images/socialdistancingHindi_page-0001.png\" alt=\"Poster on Social distancing in a market place during COVID-19 Hindi\">\\n                                            </a>\\n                                        </figure>\\n                                    </div>\\n                                </div>\\n                                <div class=\"grid element-item english\">\\n                                    <div class=\"content-box\">\\n                                        <figure>\\n                                            <a href=\"https://www.mohfw.gov.in/pdf/FINAL_14_03_2020_ENg.pdf\" target=\"_blank\">\\n                                                <img src=\"assets/images/FINAL_14_03_2020_ENg_page-0001.png\" alt=\"When to get tested for COVID-19 English\">\\n                                            </a>\\n                                        </figure>\\n                                    </div>\\n                                </div>\\n                                <div class=\"grid element-item hindi\">\\n                                    <div class=\"content-box\">\\n                                        <figure>\\n                                            <a href=\"https://www.mohfw.gov.in/pdf/FINAL_14_03_2020_Hindi.pdf\" target=\"_blank\">\\n                                                <img src=\"assets/images/FINAL_14_03_2020_Hindi_page-0001.png\" alt=\"When to get tested for COVID-19 Hindi\">\\n                                            </a>\\n                                        </figure>\\n                                    </div>\\n                                </div>\\n                                <div class=\"grid element-item english\">\\n                                    <div class=\"content-box\">\\n                                        <figure>\\n                                            <a href=\"https://www.mohfw.gov.in/pdf/ProtectivemeasuresEng.pdf\" target=\"_blank\">\\n                                                <img src=\"assets/images/ProtectivemeasuresEng_page-0001.png\" alt=\"Posters for Safety measures against COVID-19 - English\">\\n                                            </a>\\n                                        </figure>\\n                                    </div>\\n                                </div>\\n\\t\\t\\t\\t\\t\\t\\t\\t<div class=\"grid element-item hindi\">\\n                                    <div class=\"content-box\">\\n                                        <figure>\\n                                            <a href=\"https://www.mohfw.gov.in/pdf/ProtectivemeasuresHin.pdf\" target=\"_blank\">\\n                                                <img src=\"assets/images/ProtectivemeasuresHin_page-0001.png\" alt=\"Posters for Safety measures against COVID-19 - Hindi\">\\n                                            </a>\\n                                        </figure>\\n                                    </div>\\n                                </div>\\n                                <div class=\"grid element-item english\">\\n                                    <div class=\"content-box\">\\n                                        <figure>\\n                                            <a href=\"https://www.mohfw.gov.in/pdf/PostrerEnglishtraveller.pdf\" target=\"_blank\">\\n                                                <img src=\"assets/images/PostrerEnglishtraveller_page-0001.png\" alt=\"Posters for Indians traveling from abroad - English\">\\n                                            </a>\\n                                        </figure>\\n                                    </div>\\n                                </div>\\n\\t\\t\\t\\t\\t\\t\\t\\t<div class=\"grid element-item hindi\">\\n                                    <div class=\"content-box\">\\n                                        <figure>\\n                                            <a href=\"https://www.mohfw.gov.in/pdf/PosterTravellerHindi.pdf\" target=\"_blank\">\\n                                                <img src=\"assets/images/PosterTravellerHindi_page-0001.png\" alt=\"Posters for Indians traveling from abroad - Hindi\">\\n                                            </a>\\n                                        </figure>\\n                                    </div>\\n                                </div>\\n                                <div class=\"grid element-item english\">\\n                                    <div class=\"content-box\">\\n                                        <figure>\\n                                            <a href=\"https://www.mohfw.gov.in/pdf/Mask-Eng.pdf\" target=\"_blank\">\\n                                                <img src=\"assets/images/Mask-Eng_page-0001.png\" alt=\"When to wear mask?: English\">\\n                                            </a>\\n                                        </figure>\\n                                    </div>\\n                                </div>\\n\\t\\t\\t\\t\\t\\t\\t\\t<div class=\"grid element-item hindi\">\\n                                    <div class=\"content-box\">\\n                                        <figure>\\n                                            <a href=\"https://www.mohfw.gov.in/pdf/Mask-Hindi.pdf\" target=\"_blank\">\\n                                                <img src=\"assets/images/Mask-Hindi_page-0001.png\" alt=\"When to wear mask?: Hindi\">\\n                                            </a>\\n                                        </figure>\\n                                    </div>\\n                                </div>\\n\\t\\t\\t\\t\\t\\t\\t\\t<div class=\"grid element-item english\">\\n                                    <div class=\"content-box\">\\n                                        <figure>\\n                                            <a href=\"https://www.mohfw.gov.in/pdf/Poster_Corona_ad_Eng.pdf\" target=\"_blank\">\\n                                                <img src=\"assets/images/Poster_Corona_ad_Eng_page-0001.png\" alt=\"Do\\'s and Don\\'t Poster in English\">\\n                                            </a>\\n                                        </figure>\\n                                    </div>\\n                                </div>\\n\\t\\t\\t\\t\\t\\t\\t\\t<div class=\"grid element-item hindi\">\\n                                    <div class=\"content-box\">\\n                                        <figure>\\n                                            <a href=\"https://www.mohfw.gov.in/pdf/Poster_Corona_ad_Hin.pdf\" target=\"_blank\">\\n                                                <img src=\"assets/images/Poster_Corona_ad_Hin_page-0001.png\" alt=\"Do\\'s and Don\\'t Poster in English\">\\n                                            </a>\\n                                        </figure>\\n                                    </div>\\n                                </div>\\n                            </div>\\n                        </div>\\n                    </div>\\n                </div>\\n            </div>\\n        </section>\\n\\n<section id=\"site-faq\" class=\"site-update\">\\n<div class=\"container\">\\n<div class=\"row\">\\n<div class=\"col-xs-12\">\\n<div class=\"site-faq\">\\n<h3>FAQs</h3>\\n<div class=\"faq-content\">\\n<embed src=\"https://www.mohfw.gov.in/pdf/FAQ.pdf\" type=\"application/pdf\" width=\"100%\" height=\"600px\" class=\"mob-hide\">\\n<a class=\"btn-faq mob-show\" href=\"https://www.mohfw.gov.in/pdf/FAQ.pdf \" target=\"_blank\" class=\"mob-show\">Click to see the FAQ pdf</a>\\n</div>\\n</div>\\n</div>\\n</div>\\n</div>\\n</section>\\n\\n</div>\\n\\n<footer class=\"footer-section\">\\n<div class=\"container\">\\n<div class=\"row\">\\n<div class=\"col-xs-12\">\\n<div class=\"footer-content\">\\n<div class=\"site-copyright\">\\n<strong>Disclaimer :</strong> <br>\\nWebsite content managed by <a href=\"#\" target=\"_blank\">Ministry of Health and Family Welfare</a>, <a href=\"#\" target=\"_blank\">GOI</a>\\nDesign, Developed and Hosted by <a href=\"https://www.nic.in/\" target=\"_blank\">National Informatics Centre (NIC)</a>\\n</div>\\n</div>\\n</div>\\n</div>\\n</div>\\n<a class=\"top\" href=\"#top\"><i class=\"fa fa-chevron-up\" aria-hidden=\"true\"></i></a>\\n</footer>\\n</div>\\n\\n\\n\\n<script type=\"text/javascript\" src=\"assets/js/jquery-2.2.4.min.js\"></script>\\n<script type=\"text/javascript\" src=\"assets/js/bootstrap.js\"></script>\\n<script type=\"text/javascript\" src=\"assets/js/jquery.sticky.js\"></script>\\n<script type=\"text/javascript\" src=\"assets/js/style.switcher.js\"></script>\\n<script type=\"text/javascript\" src=\"assets/js/isotope.pkgd.min.js\"></script>\\n<script type=\"text/javascript\" src=\"assets/js/custom.js\"></script>\\n<script>\\nfunction blinker() {\\n\\t$(\\'.blinking\\').fadeOut(500);\\n\\t$(\\'.blinking\\').fadeIn(500);\\n}\\nsetInterval(blinker, 2000);\\n</script>\\n</body>\\n</html>'"
      ]
     },
     "execution_count": 5,
     "metadata": {},
     "output_type": "execute_result"
    }
   ],
   "source": [
    "\n",
    "\n",
    "response.content\n",
    "\n"
   ]
  },
  {
   "cell_type": "code",
   "execution_count": 6,
   "metadata": {},
   "outputs": [],
   "source": [
    "\n",
    "\n",
    "soup = BeautifulSoup(response.content, 'html.parser')\n",
    "\n"
   ]
  },
  {
   "cell_type": "code",
   "execution_count": 7,
   "metadata": {},
   "outputs": [],
   "source": [
    "\n",
    "\n",
    "stat_table =soup.find_all('table', class_ = 'table table-striped' )\n",
    "\n"
   ]
  },
  {
   "cell_type": "code",
   "execution_count": 8,
   "metadata": {},
   "outputs": [
    {
     "data": {
      "text/plain": [
       "1"
      ]
     },
     "execution_count": 8,
     "metadata": {},
     "output_type": "execute_result"
    }
   ],
   "source": [
    "\n",
    "\n",
    "len(stat_table)\n",
    "\n"
   ]
  },
  {
   "cell_type": "code",
   "execution_count": 9,
   "metadata": {},
   "outputs": [],
   "source": [
    "\n",
    "\n",
    "stat_table = stat_table[0]\n",
    "\n"
   ]
  },
  {
   "cell_type": "code",
   "execution_count": 10,
   "metadata": {},
   "outputs": [
    {
     "name": "stdout",
     "output_type": "stream",
     "text": [
      "1\n",
      "Andhra Pradesh\n",
      "83\n",
      "1\n",
      "0\n",
      "2\n",
      "Andaman and Nicobar Islands\n",
      "10\n",
      "0\n",
      "0\n",
      "3\n",
      "Bihar\n",
      "23\n",
      "0\n",
      "1\n",
      "4\n",
      "Chandigarh\n",
      "13\n",
      "0\n",
      "0\n",
      "5\n",
      "Chhattisgarh\n",
      "9\n",
      "0\n",
      "0\n",
      "6\n",
      "Delhi\n",
      "120\n",
      "6\n",
      "2\n",
      "7\n",
      "Goa\n",
      "5\n",
      "0\n",
      "0\n",
      "8\n",
      "Gujarat\n",
      "74\n",
      "5\n",
      "6\n",
      "9\n",
      "Haryana\n",
      "43\n",
      "21\n",
      "0\n",
      "10\n",
      "Himachal Pradesh\n",
      "3\n",
      "0\n",
      "1\n",
      "11\n",
      "Jammu and Kashmir\n",
      "55\n",
      "2\n",
      "2\n",
      "12\n",
      "Karnataka\n",
      "101\n",
      "8\n",
      "3\n",
      "13\n",
      "Kerala\n",
      "241\n",
      "23\n",
      "2\n",
      "14\n",
      "Ladakh\n",
      "13\n",
      "3\n",
      "0\n",
      "15\n",
      "Madhya Pradesh\n",
      "47\n",
      "0\n",
      "3\n",
      "16\n",
      "Maharashtra\n",
      "302\n",
      "39\n",
      "9\n",
      "17\n",
      "Manipur\n",
      "1\n",
      "0\n",
      "0\n",
      "18\n",
      "Mizoram\n",
      "1\n",
      "0\n",
      "0\n",
      "19\n",
      "Odisha\n",
      "4\n",
      "0\n",
      "0\n",
      "20\n",
      "Puducherry\n",
      "1\n",
      "0\n",
      "0\n",
      "21\n",
      "Punjab\n",
      "41\n",
      "1\n",
      "3\n",
      "22\n",
      "Rajasthan\n",
      "93\n",
      "3\n",
      "0\n",
      "23\n",
      "Tamil Nadu\n",
      "124\n",
      "4\n",
      "1\n",
      "24\n",
      "Telengana\n",
      "94\n",
      "1\n",
      "3\n",
      "25\n",
      "Uttarakhand\n",
      "7\n",
      "2\n",
      "0\n",
      "26\n",
      "Uttar Pradesh\n",
      "103\n",
      "14\n",
      "0\n",
      "27\n",
      "West Bengal\n",
      "26\n",
      "0\n",
      "2\n",
      "Total number of confirmed cases in India\n",
      "1637\n",
      "\n",
      "133\n",
      "\n",
      "\n",
      "38\n",
      "\n"
     ]
    }
   ],
   "source": [
    "\n",
    "\n",
    "for row in stat_table.find_all('tr'):\n",
    "    for cell in row.find_all('td'):\n",
    "        print(cell.text)\n",
    "    \n",
    "\n"
   ]
  },
  {
   "cell_type": "code",
   "execution_count": 11,
   "metadata": {},
   "outputs": [],
   "source": [
    "\n",
    "\n",
    "with open ('basketball_stats.txt', 'w') as r:\n",
    "    for row in stat_table.find_all('tr'):\n",
    "        for cell in row.find_all('td'):\n",
    "            r.write(cell.text.ljust(40))\n",
    "        r.write('\\n')\n",
    "    \n",
    "\n"
   ]
  },
  {
   "cell_type": "code",
   "execution_count": 12,
   "metadata": {},
   "outputs": [],
   "source": [
    "\n",
    "\n",
    "#http://www.whoishostingthis.com/tools/user-agent/\n",
    "\n"
   ]
  },
  {
   "cell_type": "code",
   "execution_count": 13,
   "metadata": {},
   "outputs": [],
   "source": [
    "\n",
    "\n",
    "#'User-Agent': 'Mozilla/5.0 (Windows NT 6.1; Win64; x64) AppleWebKit/537.36 (KHTML, like Gecko) Chrome/59.0.3071.115 Safari/537.36'\n",
    "\n",
    "\n",
    "# \n"
   ]
  },
  {
   "cell_type": "code",
   "execution_count": null,
   "metadata": {},
   "outputs": [],
   "source": [
    "\n",
    "\n",
    "\n",
    "\n"
   ]
  },
  {
   "cell_type": "code",
   "execution_count": null,
   "metadata": {},
   "outputs": [],
   "source": [
    "\n",
    "\n",
    "\n",
    "\n"
   ]
  },
  {
   "cell_type": "code",
   "execution_count": null,
   "metadata": {},
   "outputs": [],
   "source": [
    "\n",
    "\n",
    "\n",
    "\n"
   ]
  },
  {
   "cell_type": "code",
   "execution_count": null,
   "metadata": {},
   "outputs": [],
   "source": [
    "\n",
    "\n",
    "\n",
    "    \n",
    "    \n",
    "\n"
   ]
  },
  {
   "cell_type": "code",
   "execution_count": null,
   "metadata": {},
   "outputs": [],
   "source": [
    "\n",
    "\n",
    "\n",
    "\n"
   ]
  },
  {
   "cell_type": "code",
   "execution_count": null,
   "metadata": {},
   "outputs": [],
   "source": [
    "\n",
    "\n",
    "\n",
    "\n"
   ]
  }
 ],
 "metadata": {
  "file_extension": ".py",
  "kernelspec": {
   "display_name": "Python 3",
   "language": "python",
   "name": "python3"
  },
  "language_info": {
   "codemirror_mode": {
    "name": "ipython",
    "version": 3
   },
   "file_extension": ".py",
   "mimetype": "text/x-python",
   "name": "python",
   "nbconvert_exporter": "python",
   "pygments_lexer": "ipython3",
   "version": "3.7.7"
  },
  "mimetype": "text/x-python",
  "name": "python",
  "npconvert_exporter": "python",
  "pygments_lexer": "ipython3",
  "version": 3
 },
 "nbformat": 4,
 "nbformat_minor": 2
}
